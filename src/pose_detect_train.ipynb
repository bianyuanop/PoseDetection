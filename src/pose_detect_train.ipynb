{
 "cells": [
  {
   "cell_type": "code",
   "execution_count": 2,
   "metadata": {},
   "outputs": [],
   "source": [
    "import torch\n",
    "import torch.nn as nn\n",
    "import torch.nn.functional as F\n",
    "import numpy as np\n",
    "import matplotlib.pyplot as plt\n",
    "import pandas as pd"
   ]
  },
  {
   "cell_type": "code",
   "execution_count": 3,
   "metadata": {},
   "outputs": [
    {
     "name": "stdout",
     "output_type": "stream",
     "text": [
      "window size:  20\n",
      "classes len:  5\n",
      "{0: 'left', 1: 'noise', 2: 'one', 3: 'right', 4: 'thumbup'}\n"
     ]
    }
   ],
   "source": [
    "# Data preparing\n",
    "df = pd.read_csv('./traces_seq.csv')\n",
    "window_size = None\n",
    "with open('./window_size.txt', 'r') as f:\n",
    "    window_size = int(f.read())\n",
    "\n",
    "classes = []\n",
    "classes_len = 0\n",
    "with open('../data/classes.txt', 'r') as f:\n",
    "    classes = f.read().splitlines()\n",
    "    classes_len = len(classes)\n",
    "\n",
    "class_mapping = {\n",
    "    key: classes[key] for key in range(len(classes))\n",
    "}\n",
    "print('window size: ', window_size)\n",
    "print('classes len: ', classes_len)\n",
    "print(class_mapping)"
   ]
  },
  {
   "cell_type": "code",
   "execution_count": 4,
   "metadata": {},
   "outputs": [],
   "source": [
    "def row_tranform(row):\n",
    "    # row = X.iloc[0, :].to_numpy().reshape((window_size, 5))\n",
    "    poses = row[:, :4]\n",
    "    clses = row[:, 4].astype(np.int32)\n",
    "    new_cls = []\n",
    "\n",
    "    for cls in clses:\n",
    "        new_cls.append(onehot_encode(cls, class_mapping))\n",
    "\n",
    "    new_cls = np.array(new_cls).reshape((window_size, classes_len))\n",
    "\n",
    "    return np.concatenate([poses, new_cls], axis=1)\n",
    "\n",
    "def onehot_encode(cls, mapping):\n",
    "    res = np.zeros(len(mapping))\n",
    "    res[cls] = 1\n",
    "\n",
    "    return res\n"
   ]
  },
  {
   "cell_type": "code",
   "execution_count": 5,
   "metadata": {},
   "outputs": [
    {
     "data": {
      "text/plain": [
       "(268, 100)"
      ]
     },
     "execution_count": 5,
     "metadata": {},
     "output_type": "execute_result"
    }
   ],
   "source": [
    "X = df.iloc[:, :5*window_size]\n",
    "y = df.iloc[:, 5*window_size]\n",
    "X.shape"
   ]
  },
  {
   "cell_type": "code",
   "execution_count": 6,
   "metadata": {},
   "outputs": [
    {
     "data": {
      "text/plain": [
       "(5360, 9)"
      ]
     },
     "execution_count": 6,
     "metadata": {},
     "output_type": "execute_result"
    }
   ],
   "source": [
    "\n",
    "X_train = []\n",
    "for i in range(len(X)):\n",
    "    row = X.iloc[i, :].to_numpy().reshape(window_size, 5)\n",
    "    X_train.append(row_tranform(row))\n",
    "\n",
    "X_train = np.array(X_train).reshape((window_size*X.shape[0], 4 + classes_len))\n",
    "X_train.shape"
   ]
  },
  {
   "cell_type": "code",
   "execution_count": 7,
   "metadata": {},
   "outputs": [],
   "source": [
    "# rescale to 0-1\n",
    "X_train[:, [0, 2]] = X_train[:, [0, 2]] / 1080\n",
    "X_train[:, [1, 3]] = X_train[:, [1, 3]] / 720"
   ]
  },
  {
   "cell_type": "code",
   "execution_count": 8,
   "metadata": {},
   "outputs": [
    {
     "data": {
      "text/plain": [
       "array([[0.41596414, 0.50787468, 0.7139883 , 0.85386039, 0.        ,\n",
       "        0.        , 0.        , 1.        , 0.        ],\n",
       "       [0.42560114, 0.45838131, 0.72216413, 0.81890988, 0.        ,\n",
       "        0.        , 0.        , 1.        , 0.        ],\n",
       "       [0.4348103 , 0.39757589, 0.7419498 , 0.79601322, 0.        ,\n",
       "        0.        , 0.        , 1.        , 0.        ],\n",
       "       [0.44455055, 0.35128388, 0.73794573, 0.75623296, 0.        ,\n",
       "        0.        , 0.        , 1.        , 0.        ]])"
      ]
     },
     "execution_count": 8,
     "metadata": {},
     "output_type": "execute_result"
    }
   ],
   "source": [
    "X_train[:4, :]"
   ]
  },
  {
   "cell_type": "code",
   "execution_count": 17,
   "metadata": {},
   "outputs": [],
   "source": [
    "class PoseDetectNN(nn.Module):\n",
    "    def __init__(self, num_classes, pos_dimension, window_size, batch_size, bidirection=False,hidden_dim=10, rnn_hidden=10, rnn_layers=2) -> None:\n",
    "        super(PoseDetectNN, self).__init__()\n",
    "\n",
    "        self.batch_size = batch_size\n",
    "        self.rnn_layers = rnn_layers\n",
    "        self.rnn_hidden = rnn_hidden\n",
    "        self.num_classes = num_classes\n",
    "        self.pos_dimension = pos_dimension\n",
    "        self.window_size = window_size\n",
    "        self.bidirection = bidirection\n",
    "\n",
    "        self.linear = nn.Linear(num_classes + pos_dimension, out_features=hidden_dim)\n",
    "        self.rnn = nn.LSTM(hidden_dim, rnn_hidden, rnn_layers, bidirectional=bidirection, batch_first=True)\n",
    "        self.linear2 = nn.Linear((1+bidirection)*rnn_hidden, 1)\n",
    "        self.linear3 = nn.Linear(window_size, 1)\n",
    "    \n",
    "    def forward(self, x):\n",
    "        hidden = self.linear(x)\n",
    "\n",
    "        h0, c0 = self.init_hidden(self.batch_size, self.rnn_layers, self.rnn_hidden, self.bidirection)\n",
    "\n",
    "        out, (hn, cn) = self.rnn(hidden, (h0, c0))\n",
    "\n",
    "        out = self.linear2(out[:, window_size-1, :]).reshape((self.batch_size))\n",
    "        out = torch.sigmoid(out).view(-1)\n",
    "        # out = self.linear3(out)\n",
    "        # out = torch.sigmoid(out).view(-1)\n",
    "\n",
    "        return out\n",
    "    \n",
    "    def init_hidden(self, batch_size, rnn_layers, rnn_hidden, bidirection=False, device=torch.device(\"cuda\")):\n",
    "        h0 = torch.randn((1+bidirection)*rnn_layers, batch_size, rnn_hidden, device)\n",
    "        c0 = torch.randn((1+bidirection)*rnn_layers, batch_size, rnn_hidden, device)\n",
    "        return h0, c0\n",
    "        "
   ]
  },
  {
   "cell_type": "code",
   "execution_count": 10,
   "metadata": {},
   "outputs": [
    {
     "data": {
      "text/plain": [
       "PoseDetectNN(\n",
       "  (linear): Linear(in_features=9, out_features=10, bias=True)\n",
       "  (rnn): LSTM(10, 10, num_layers=2, batch_first=True)\n",
       "  (linear2): Linear(in_features=10, out_features=1, bias=True)\n",
       "  (linear3): Linear(in_features=20, out_features=1, bias=True)\n",
       ")"
      ]
     },
     "execution_count": 10,
     "metadata": {},
     "output_type": "execute_result"
    }
   ],
   "source": [
    "model = PoseDetectNN(classes_len, 4, window_size, 1)\n",
    "model.cuda()"
   ]
  },
  {
   "cell_type": "code",
   "execution_count": 11,
   "metadata": {},
   "outputs": [],
   "source": [
    "t = torch.Tensor(X_train[0:window_size, :]).reshape((1, window_size, 9)).to(torch.device('cuda'))\n",
    "output = model(t)\n",
    "label = torch.Tensor([y[0]]).to(torch.device('cuda'))"
   ]
  },
  {
   "cell_type": "code",
   "execution_count": 80,
   "metadata": {},
   "outputs": [
    {
     "data": {
      "text/plain": [
       "tensor(0.5705, device='cuda:0', grad_fn=<BinaryCrossEntropyBackward0>)"
      ]
     },
     "execution_count": 80,
     "metadata": {},
     "output_type": "execute_result"
    }
   ],
   "source": [
    "output = model(t)\n",
    "label = torch.Tensor([y[0]]).to(torch.device('cuda'))\n",
    "\n",
    "criterion = nn.BCELoss()\n",
    "loss = criterion(output, label)\n",
    "loss"
   ]
  },
  {
   "cell_type": "code",
   "execution_count": 81,
   "metadata": {},
   "outputs": [],
   "source": [
    "# train\n",
    "n_epochs = 1000\n",
    "lr = 0.01\n",
    "device = torch.device('cuda')\n",
    "\n",
    "# criterion = nn.CrossEntropyLoss()\n",
    "criterion = nn.BCELoss()\n",
    "optimizer = torch.optim.Adam(model.parameters(), lr=lr)"
   ]
  },
  {
   "cell_type": "code",
   "execution_count": 82,
   "metadata": {},
   "outputs": [
    {
     "name": "stdout",
     "output_type": "stream",
     "text": [
      "Epoch: 10/1000............. Loss: 180.1451\n",
      "Epoch: 20/1000............. Loss: 178.8746\n",
      "Epoch: 30/1000............. Loss: 178.5448\n",
      "Epoch: 40/1000............. Loss: 178.4439\n",
      "Epoch: 50/1000............. Loss: 178.0864\n",
      "Epoch: 60/1000............. Loss: 178.3330\n",
      "Epoch: 70/1000............. Loss: 162.3517\n",
      "Epoch: 80/1000............. Loss: 135.9717\n",
      "Epoch: 90/1000............. Loss: 137.0944\n",
      "Epoch: 100/1000............. Loss: 134.0988\n",
      "Epoch: 110/1000............. Loss: 102.2410\n",
      "Epoch: 120/1000............. Loss: 102.3266\n",
      "Epoch: 130/1000............. Loss: 97.2276\n",
      "Epoch: 140/1000............. Loss: 95.2567\n",
      "Epoch: 150/1000............. Loss: 95.0890\n",
      "Epoch: 160/1000............. Loss: 90.1029\n",
      "Epoch: 170/1000............. Loss: 92.5909\n",
      "Epoch: 180/1000............. Loss: 89.7734\n",
      "Epoch: 190/1000............. Loss: 82.4742\n",
      "Epoch: 200/1000............. Loss: 77.6376\n",
      "Epoch: 210/1000............. Loss: 76.0171\n",
      "Epoch: 220/1000............. Loss: 73.7941\n",
      "Epoch: 230/1000............. Loss: 89.5621\n",
      "Epoch: 240/1000............. Loss: 71.4076\n",
      "Epoch: 250/1000............. Loss: 73.1224\n",
      "Epoch: 260/1000............. Loss: 64.5308\n",
      "Epoch: 270/1000............. Loss: 61.6484\n",
      "Epoch: 280/1000............. Loss: 59.6060\n",
      "Epoch: 290/1000............. Loss: 61.5671\n",
      "Epoch: 300/1000............. Loss: 64.6901\n",
      "Epoch: 310/1000............. Loss: 55.9546\n",
      "Epoch: 320/1000............. Loss: 50.8986\n",
      "Epoch: 330/1000............. Loss: 50.3480\n",
      "Epoch: 340/1000............. Loss: 42.2483\n",
      "Epoch: 350/1000............. Loss: 68.1137\n",
      "Epoch: 360/1000............. Loss: 51.7711\n",
      "Epoch: 370/1000............. Loss: 40.5284\n",
      "Epoch: 380/1000............. Loss: 37.9666\n",
      "Epoch: 390/1000............. Loss: 49.1244\n",
      "Epoch: 400/1000............. Loss: 46.2973\n",
      "Epoch: 410/1000............. Loss: 91.0875\n",
      "Epoch: 420/1000............. Loss: 62.5105\n",
      "Epoch: 430/1000............. Loss: 62.3935\n",
      "Epoch: 440/1000............. Loss: 54.4158\n",
      "Epoch: 450/1000............. Loss: 51.1394\n",
      "Epoch: 460/1000............. Loss: 49.1728\n",
      "Epoch: 470/1000............. Loss: 47.4408\n",
      "Epoch: 480/1000............. Loss: 44.0154\n",
      "Epoch: 490/1000............. Loss: 39.5944\n",
      "Epoch: 500/1000............. Loss: 38.2413\n",
      "Epoch: 510/1000............. Loss: 41.7528\n",
      "Epoch: 520/1000............. Loss: 36.0718\n",
      "Epoch: 530/1000............. Loss: 33.5060\n",
      "Epoch: 540/1000............. Loss: 33.0294\n",
      "Epoch: 550/1000............. Loss: 36.3809\n",
      "Epoch: 560/1000............. Loss: 45.7975\n",
      "Epoch: 570/1000............. Loss: 30.0392\n",
      "Epoch: 580/1000............. Loss: 32.4030\n",
      "Epoch: 590/1000............. Loss: 31.0120\n",
      "Epoch: 600/1000............. Loss: 36.1380\n",
      "Epoch: 610/1000............. Loss: 32.5286\n",
      "Epoch: 620/1000............. Loss: 33.4301\n",
      "Epoch: 630/1000............. Loss: 29.1457\n",
      "Epoch: 640/1000............. Loss: 26.3383\n",
      "Epoch: 650/1000............. Loss: 27.9349\n",
      "Epoch: 660/1000............. Loss: 22.5845\n",
      "Epoch: 670/1000............. Loss: 29.7217\n",
      "Epoch: 680/1000............. Loss: 24.3690\n",
      "Epoch: 690/1000............. Loss: 20.7190\n",
      "Epoch: 700/1000............. Loss: 26.4603\n",
      "Epoch: 710/1000............. Loss: 23.7163\n",
      "Epoch: 720/1000............. Loss: 21.8753\n",
      "Epoch: 730/1000............. Loss: 24.9260\n",
      "Epoch: 740/1000............. Loss: 19.4904\n",
      "Epoch: 750/1000............. Loss: 19.8064\n",
      "Epoch: 760/1000............. Loss: 27.4718\n",
      "Epoch: 770/1000............. Loss: 169.3702\n",
      "Epoch: 780/1000............. Loss: 55.5144\n",
      "Epoch: 790/1000............. Loss: 38.6574\n",
      "Epoch: 800/1000............. Loss: 31.6455\n",
      "Epoch: 810/1000............. Loss: 28.5102\n",
      "Epoch: 820/1000............. Loss: 25.8737\n",
      "Epoch: 830/1000............. Loss: 23.3452\n",
      "Epoch: 840/1000............. Loss: 21.1332\n",
      "Epoch: 850/1000............. Loss: 21.8465\n",
      "Epoch: 860/1000............. Loss: 17.4499\n",
      "Epoch: 870/1000............. Loss: 16.8015\n",
      "Epoch: 880/1000............. Loss: 15.8200\n",
      "Epoch: 890/1000............. Loss: 18.2372\n",
      "Epoch: 900/1000............. Loss: 18.1528\n",
      "Epoch: 910/1000............. Loss: 15.5098\n",
      "Epoch: 920/1000............. Loss: 14.9420\n",
      "Epoch: 930/1000............. Loss: 13.8161\n",
      "Epoch: 940/1000............. Loss: 59.8927\n",
      "Epoch: 950/1000............. Loss: 87.4765\n",
      "Epoch: 960/1000............. Loss: 71.0506\n",
      "Epoch: 970/1000............. Loss: 56.6462\n",
      "Epoch: 980/1000............. Loss: 54.6175\n",
      "Epoch: 990/1000............. Loss: 48.9422\n",
      "Epoch: 1000/1000............. Loss: 45.7352\n"
     ]
    }
   ],
   "source": [
    "losses = []\n",
    "for epoch in range(1, n_epochs+1):\n",
    "    optimizer.zero_grad()\n",
    "    total_loss = 0\n",
    "    \n",
    "    for i in range(0, len(X_train), window_size):\n",
    "        _input = torch.Tensor(X_train[i:i+window_size, :].reshape(1, window_size, 4+classes_len)).to(device)\n",
    "        label = torch.Tensor([y[int(i/window_size)]]).to(device)\n",
    "        output = model(_input).to(device)\n",
    "\n",
    "        loss = criterion(output, label)\n",
    "        loss.backward()\n",
    "\n",
    "        total_loss += loss.item()\n",
    "\n",
    "    if epoch%10 == 0:\n",
    "        print('Epoch: {}/{}.............'.format(epoch, n_epochs), end=' ')\n",
    "        print(\"Loss: {:.4f}\".format(total_loss))\n",
    "\n",
    "    optimizer.step()\n",
    "    losses.append(total_loss)\n"
   ]
  },
  {
   "cell_type": "code",
   "execution_count": 83,
   "metadata": {},
   "outputs": [
    {
     "name": "stdout",
     "output_type": "stream",
     "text": [
      "268\n"
     ]
    }
   ],
   "source": [
    "print(len(y))"
   ]
  },
  {
   "cell_type": "code",
   "execution_count": 84,
   "metadata": {},
   "outputs": [
    {
     "data": {
      "text/plain": [
       "(5360, 9)"
      ]
     },
     "execution_count": 84,
     "metadata": {},
     "output_type": "execute_result"
    }
   ],
   "source": [
    "X_train.shape"
   ]
  },
  {
   "cell_type": "code",
   "execution_count": 85,
   "metadata": {},
   "outputs": [
    {
     "data": {
      "text/plain": [
       "1072.0"
      ]
     },
     "execution_count": 85,
     "metadata": {},
     "output_type": "execute_result"
    }
   ],
   "source": [
    "X_train.shape[0] / 5"
   ]
  },
  {
   "cell_type": "code",
   "execution_count": 86,
   "metadata": {},
   "outputs": [
    {
     "data": {
      "text/plain": [
       "[<matplotlib.lines.Line2D at 0x7f9790fff370>]"
      ]
     },
     "execution_count": 86,
     "metadata": {},
     "output_type": "execute_result"
    },
    {
     "data": {
      "image/png": "[encoded data removed]",
      "text/plain": [
       "<Figure size 640x480 with 1 Axes>"
      ]
     },
     "metadata": {},
     "output_type": "display_data"
    }
   ],
   "source": [
    "plt.plot(losses)"
   ]
  },
  {
   "cell_type": "code",
   "execution_count": 87,
   "metadata": {},
   "outputs": [],
   "source": [
    "torch.save(model.state_dict(), 'pdnn.pt')"
   ]
  },
  {
   "cell_type": "code",
   "execution_count": null,
   "metadata": {},
   "outputs": [],
   "source": []
  }
 ],
 "metadata": {
  "kernelspec": {
   "display_name": "Python 3.9.12 ('csi4133')",
   "language": "python",
   "name": "python3"
  },
  "language_info": {
   "codemirror_mode": {
    "name": "ipython",
    "version": 3
   },
   "file_extension": ".py",
   "mimetype": "text/x-python",
   "name": "python",
   "nbconvert_exporter": "python",
   "pygments_lexer": "ipython3",
   "version": "3.9.12"
  },
  "orig_nbformat": 4,
  "vscode": {
   "interpreter": {
    "hash": "2f41136a46dbc985f0dfd7257394d9dd636ba3a1255dd07d589bf2551292832b"
   }
  }
 },
 "nbformat": 4,
 "nbformat_minor": 2
}
