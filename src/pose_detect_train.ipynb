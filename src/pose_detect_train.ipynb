{
 "cells": [
  {
   "cell_type": "code",
   "execution_count": 1,
   "metadata": {},
   "outputs": [],
   "source": [
    "import torch\n",
    "import torch.nn as nn\n",
    "import torch.nn.functional as F\n",
    "import numpy as np\n",
    "import matplotlib.pyplot as plt\n",
    "import pandas as pd"
   ]
  },
  {
   "cell_type": "code",
   "execution_count": 2,
   "metadata": {},
   "outputs": [
    {
     "name": "stdout",
     "output_type": "stream",
     "text": [
      "window size:  20\n",
      "classes len:  5\n",
      "{0: 'left', 1: 'noise', 2: 'one', 3: 'right', 4: 'thumbup'}\n"
     ]
    }
   ],
   "source": [
    "# Data preparing\n",
    "df = pd.read_csv('./traces_seq.csv')\n",
    "window_size = None\n",
    "with open('./window_size.txt', 'r') as f:\n",
    "    window_size = int(f.read())\n",
    "\n",
    "classes = []\n",
    "classes_len = 0\n",
    "with open('../data/classes.txt', 'r') as f:\n",
    "    classes = f.read().splitlines()\n",
    "    classes_len = len(classes)\n",
    "\n",
    "class_mapping = {\n",
    "    key: classes[key] for key in range(len(classes))\n",
    "}\n",
    "print('window size: ', window_size)\n",
    "print('classes len: ', classes_len)\n",
    "print(class_mapping)"
   ]
  },
  {
   "cell_type": "code",
   "execution_count": 3,
   "metadata": {},
   "outputs": [],
   "source": [
    "def row_tranform(row):\n",
    "    # row = X.iloc[0, :].to_numpy().reshape((window_size, 5))\n",
    "    poses = row[:, :4]\n",
    "    clses = row[:, 4].astype(np.int32)\n",
    "    new_cls = []\n",
    "\n",
    "    for cls in clses:\n",
    "        new_cls.append(onehot_encode(cls, class_mapping))\n",
    "\n",
    "    new_cls = np.array(new_cls).reshape((window_size, classes_len))\n",
    "\n",
    "    return np.concatenate([poses, new_cls], axis=1)\n",
    "\n",
    "def onehot_encode(cls, mapping):\n",
    "    res = np.zeros(len(mapping))\n",
    "    res[cls] = 1\n",
    "\n",
    "    return res\n"
   ]
  },
  {
   "cell_type": "code",
   "execution_count": 4,
   "metadata": {},
   "outputs": [
    {
     "data": {
      "text/plain": [
       "(259, 100)"
      ]
     },
     "execution_count": 4,
     "metadata": {},
     "output_type": "execute_result"
    }
   ],
   "source": [
    "X = df.iloc[:, :5*window_size]\n",
    "y = df.iloc[:, 5*window_size]\n",
    "X.shape"
   ]
  },
  {
   "cell_type": "code",
   "execution_count": 5,
   "metadata": {},
   "outputs": [
    {
     "data": {
      "text/plain": [
       "(5180, 9)"
      ]
     },
     "execution_count": 5,
     "metadata": {},
     "output_type": "execute_result"
    }
   ],
   "source": [
    "\n",
    "X_train = []\n",
    "for i in range(len(X)):\n",
    "    row = X.iloc[i, :].to_numpy().reshape(window_size, 5)\n",
    "    X_train.append(row_tranform(row))\n",
    "\n",
    "X_train = np.array(X_train).reshape((window_size*X.shape[0], 4 + classes_len))\n",
    "X_train.shape"
   ]
  },
  {
   "cell_type": "code",
   "execution_count": 6,
   "metadata": {},
   "outputs": [],
   "source": [
    "# rescale to 0-1\n",
    "X_train[:, [0, 2]] = X_train[:, [0, 2]] / 1080\n",
    "X_train[:, [1, 3]] = X_train[:, [1, 3]] / 720"
   ]
  },
  {
   "cell_type": "code",
   "execution_count": 7,
   "metadata": {},
   "outputs": [
    {
     "data": {
      "text/plain": [
       "array([[0.41405874, 0.51072396, 0.7057984 , 0.84673843, 0.        ,\n",
       "        0.        , 0.        , 1.        , 0.        ],\n",
       "       [0.41901779, 0.45702328, 0.7142373 , 0.82741648, 0.        ,\n",
       "        0.        , 0.        , 1.        , 0.        ],\n",
       "       [0.43445234, 0.40828213, 0.73386926, 0.78479529, 0.        ,\n",
       "        0.        , 0.        , 1.        , 0.        ],\n",
       "       [0.44856358, 0.35276688, 0.72332752, 0.75229645, 0.        ,\n",
       "        0.        , 0.        , 1.        , 0.        ]])"
      ]
     },
     "execution_count": 7,
     "metadata": {},
     "output_type": "execute_result"
    }
   ],
   "source": [
    "X_train[:4, :]"
   ]
  },
  {
   "cell_type": "code",
   "execution_count": 8,
   "metadata": {},
   "outputs": [],
   "source": [
    "class PoseDetectNN(nn.Module):\n",
    "    def __init__(self, num_classes, pos_dimension, window_size, batch_size, bidirection=False,hidden_dim=10, rnn_hidden=10, rnn_layers=2) -> None:\n",
    "        super(PoseDetectNN, self).__init__()\n",
    "\n",
    "        self.batch_size = batch_size\n",
    "        self.rnn_layers = rnn_layers\n",
    "        self.rnn_hidden = rnn_hidden\n",
    "        self.num_classes = num_classes\n",
    "        self.pos_dimension = pos_dimension\n",
    "        self.window_size = window_size\n",
    "        self.bidirection = bidirection\n",
    "\n",
    "        self.linear = nn.Linear(num_classes + pos_dimension, out_features=hidden_dim)\n",
    "        self.rnn = nn.LSTM(hidden_dim, rnn_hidden, rnn_layers, bidirectional=bidirection, batch_first=True)\n",
    "        self.linear2 = nn.Linear((1+bidirection)*rnn_hidden, 1)\n",
    "        self.linear3 = nn.Linear(window_size, 1)\n",
    "    \n",
    "    def forward(self, x):\n",
    "        hidden = self.linear(x)\n",
    "\n",
    "        h0, c0 = self.init_hidden(self.batch_size, self.rnn_layers, self.rnn_hidden, self.bidirection)\n",
    "\n",
    "        out, (hn, cn) = self.rnn(hidden, (h0, c0))\n",
    "\n",
    "        out = self.linear2(out[:, window_size-1, :]).reshape((self.batch_size))\n",
    "        out = torch.sigmoid(out).view(-1)\n",
    "        # out = self.linear3(out)\n",
    "        # out = torch.sigmoid(out).view(-1)\n",
    "\n",
    "        return out\n",
    "    \n",
    "    def init_hidden(self, batch_size, rnn_layers, rnn_hidden, bidirection=False, device=torch.device(\"cuda\")):\n",
    "        h0 = torch.randn((1+bidirection)*rnn_layers, batch_size, rnn_hidden, device=device)\n",
    "        c0 = torch.randn((1+bidirection)*rnn_layers, batch_size, rnn_hidden, device=device)\n",
    "        return h0, c0\n",
    "        "
   ]
  },
  {
   "cell_type": "code",
   "execution_count": 9,
   "metadata": {},
   "outputs": [
    {
     "data": {
      "text/plain": [
       "PoseDetectNN(\n",
       "  (linear): Linear(in_features=9, out_features=10, bias=True)\n",
       "  (rnn): LSTM(10, 10, num_layers=2, batch_first=True)\n",
       "  (linear2): Linear(in_features=10, out_features=1, bias=True)\n",
       "  (linear3): Linear(in_features=20, out_features=1, bias=True)\n",
       ")"
      ]
     },
     "execution_count": 9,
     "metadata": {},
     "output_type": "execute_result"
    }
   ],
   "source": [
    "model = PoseDetectNN(classes_len, 4, window_size, 1)\n",
    "model.cuda()"
   ]
  },
  {
   "cell_type": "code",
   "execution_count": 10,
   "metadata": {},
   "outputs": [],
   "source": [
    "t = torch.Tensor(X_train[0:window_size, :]).reshape((1, window_size, 9)).to(torch.device('cuda'))\n",
    "output = model(t)\n",
    "label = torch.Tensor([y[0]]).to(torch.device('cuda'))"
   ]
  },
  {
   "cell_type": "code",
   "execution_count": 11,
   "metadata": {},
   "outputs": [
    {
     "data": {
      "text/plain": [
       "tensor(0.6226, device='cuda:0', grad_fn=<BinaryCrossEntropyBackward0>)"
      ]
     },
     "execution_count": 11,
     "metadata": {},
     "output_type": "execute_result"
    }
   ],
   "source": [
    "output = model(t)\n",
    "label = torch.Tensor([y[0]]).to(torch.device('cuda'))\n",
    "\n",
    "criterion = nn.BCELoss()\n",
    "loss = criterion(output, label)\n",
    "loss"
   ]
  },
  {
   "cell_type": "code",
   "execution_count": 12,
   "metadata": {},
   "outputs": [],
   "source": [
    "# train\n",
    "n_epochs = 1000\n",
    "lr = 0.01\n",
    "device = torch.device('cuda')\n",
    "\n",
    "# criterion = nn.CrossEntropyLoss()\n",
    "criterion = nn.BCELoss()\n",
    "optimizer = torch.optim.Adam(model.parameters(), lr=lr)"
   ]
  },
  {
   "cell_type": "code",
   "execution_count": 13,
   "metadata": {},
   "outputs": [
    {
     "name": "stdout",
     "output_type": "stream",
     "text": [
      "Epoch: 10/1000............. Loss: 172.7880\n",
      "Epoch: 20/1000............. Loss: 150.4258\n",
      "Epoch: 30/1000............. Loss: 121.4452\n",
      "Epoch: 40/1000............. Loss: 119.3604\n",
      "Epoch: 50/1000............. Loss: 118.6009\n",
      "Epoch: 60/1000............. Loss: 106.3870\n",
      "Epoch: 70/1000............. Loss: 89.7538\n",
      "Epoch: 80/1000............. Loss: 83.4447\n",
      "Epoch: 90/1000............. Loss: 87.4194\n",
      "Epoch: 100/1000............. Loss: 253.6317\n",
      "Epoch: 110/1000............. Loss: 171.3508\n",
      "Epoch: 120/1000............. Loss: 167.8633\n",
      "Epoch: 130/1000............. Loss: 168.5419\n",
      "Epoch: 140/1000............. Loss: 168.0562\n",
      "Epoch: 150/1000............. Loss: 167.2342\n",
      "Epoch: 160/1000............. Loss: 166.4414\n",
      "Epoch: 170/1000............. Loss: 165.0827\n",
      "Epoch: 180/1000............. Loss: 159.9773\n",
      "Epoch: 190/1000............. Loss: 139.2410\n",
      "Epoch: 200/1000............. Loss: 123.6182\n",
      "Epoch: 210/1000............. Loss: 100.0793\n",
      "Epoch: 220/1000............. Loss: 133.9917\n",
      "Epoch: 230/1000............. Loss: 134.6520\n",
      "Epoch: 240/1000............. Loss: 110.6103\n",
      "Epoch: 250/1000............. Loss: 94.3623\n",
      "Epoch: 260/1000............. Loss: 105.6702\n",
      "Epoch: 270/1000............. Loss: 97.8704\n",
      "Epoch: 280/1000............. Loss: 113.2365\n",
      "Epoch: 290/1000............. Loss: 102.3979\n",
      "Epoch: 300/1000............. Loss: 85.0122\n",
      "Epoch: 310/1000............. Loss: 89.6804\n",
      "Epoch: 320/1000............. Loss: 84.3959\n",
      "Epoch: 330/1000............. Loss: 80.1032\n",
      "Epoch: 340/1000............. Loss: 85.0667\n",
      "Epoch: 350/1000............. Loss: 80.2069\n",
      "Epoch: 360/1000............. Loss: 80.1782\n",
      "Epoch: 370/1000............. Loss: 76.9352\n",
      "Epoch: 380/1000............. Loss: 81.1080\n",
      "Epoch: 390/1000............. Loss: 85.7849\n",
      "Epoch: 400/1000............. Loss: 86.1472\n",
      "Epoch: 410/1000............. Loss: 98.3016\n",
      "Epoch: 420/1000............. Loss: 81.0434\n",
      "Epoch: 430/1000............. Loss: 76.4617\n",
      "Epoch: 440/1000............. Loss: 70.9982\n",
      "Epoch: 450/1000............. Loss: 73.5074\n",
      "Epoch: 460/1000............. Loss: 78.3900\n",
      "Epoch: 470/1000............. Loss: 73.1303\n",
      "Epoch: 480/1000............. Loss: 72.4062\n",
      "Epoch: 490/1000............. Loss: 78.2059\n",
      "Epoch: 500/1000............. Loss: 64.9237\n",
      "Epoch: 510/1000............. Loss: 65.0030\n",
      "Epoch: 520/1000............. Loss: 64.9892\n",
      "Epoch: 530/1000............. Loss: 65.4365\n",
      "Epoch: 540/1000............. Loss: 62.2939\n",
      "Epoch: 550/1000............. Loss: 66.9219\n",
      "Epoch: 560/1000............. Loss: 62.0562\n",
      "Epoch: 570/1000............. Loss: 62.5238\n",
      "Epoch: 580/1000............. Loss: 64.9776\n",
      "Epoch: 590/1000............. Loss: 57.8455\n",
      "Epoch: 600/1000............. Loss: 52.9715\n",
      "Epoch: 610/1000............. Loss: 61.1675\n",
      "Epoch: 620/1000............. Loss: 54.7891\n",
      "Epoch: 630/1000............. Loss: 62.1135\n",
      "Epoch: 640/1000............. Loss: 52.5791\n",
      "Epoch: 650/1000............. Loss: 67.1288\n",
      "Epoch: 660/1000............. Loss: 54.8666\n",
      "Epoch: 670/1000............. Loss: 63.7047\n",
      "Epoch: 680/1000............. Loss: 51.4912\n",
      "Epoch: 690/1000............. Loss: 50.5911\n",
      "Epoch: 700/1000............. Loss: 48.0305\n",
      "Epoch: 710/1000............. Loss: 52.6347\n",
      "Epoch: 720/1000............. Loss: 45.8098\n",
      "Epoch: 730/1000............. Loss: 46.6381\n",
      "Epoch: 740/1000............. Loss: 57.8217\n",
      "Epoch: 750/1000............. Loss: 45.5552\n",
      "Epoch: 760/1000............. Loss: 54.8528\n",
      "Epoch: 770/1000............. Loss: 43.7721\n",
      "Epoch: 780/1000............. Loss: 43.0835\n",
      "Epoch: 790/1000............. Loss: 50.2497\n",
      "Epoch: 800/1000............. Loss: 46.3766\n",
      "Epoch: 810/1000............. Loss: 74.9990\n",
      "Epoch: 820/1000............. Loss: 47.8575\n",
      "Epoch: 830/1000............. Loss: 54.8274\n",
      "Epoch: 840/1000............. Loss: 46.6589\n",
      "Epoch: 850/1000............. Loss: 43.7074\n",
      "Epoch: 860/1000............. Loss: 46.1003\n",
      "Epoch: 870/1000............. Loss: 37.0779\n",
      "Epoch: 880/1000............. Loss: 42.7443\n",
      "Epoch: 890/1000............. Loss: 42.8811\n",
      "Epoch: 900/1000............. Loss: 34.3111\n",
      "Epoch: 910/1000............. Loss: 33.0473\n",
      "Epoch: 920/1000............. Loss: 39.8054\n",
      "Epoch: 930/1000............. Loss: 31.5323\n",
      "Epoch: 940/1000............. Loss: 32.9472\n",
      "Epoch: 950/1000............. Loss: 34.1279\n",
      "Epoch: 960/1000............. Loss: 63.5032\n",
      "Epoch: 970/1000............. Loss: 202.5092\n",
      "Epoch: 980/1000............. Loss: 68.5816\n",
      "Epoch: 990/1000............. Loss: 59.2443\n",
      "Epoch: 1000/1000............. Loss: 43.7531\n"
     ]
    }
   ],
   "source": [
    "losses = []\n",
    "for epoch in range(1, n_epochs+1):\n",
    "    optimizer.zero_grad()\n",
    "    total_loss = 0\n",
    "    \n",
    "    for i in range(0, len(X_train), window_size):\n",
    "        _input = torch.Tensor(X_train[i:i+window_size, :].reshape(1, window_size, 4+classes_len)).to(device)\n",
    "        label = torch.Tensor([y[int(i/window_size)]]).to(device)\n",
    "        output = model(_input).to(device)\n",
    "\n",
    "        loss = criterion(output, label)\n",
    "        loss.backward()\n",
    "\n",
    "        total_loss += loss.item()\n",
    "\n",
    "    if epoch%10 == 0:\n",
    "        print('Epoch: {}/{}.............'.format(epoch, n_epochs), end=' ')\n",
    "        print(\"Loss: {:.4f}\".format(total_loss))\n",
    "\n",
    "    optimizer.step()\n",
    "    losses.append(total_loss)\n"
   ]
  },
  {
   "cell_type": "code",
   "execution_count": 14,
   "metadata": {},
   "outputs": [
    {
     "name": "stdout",
     "output_type": "stream",
     "text": [
      "259\n"
     ]
    }
   ],
   "source": [
    "print(len(y))"
   ]
  },
  {
   "cell_type": "code",
   "execution_count": 15,
   "metadata": {},
   "outputs": [
    {
     "data": {
      "text/plain": [
       "(5180, 9)"
      ]
     },
     "execution_count": 15,
     "metadata": {},
     "output_type": "execute_result"
    }
   ],
   "source": [
    "X_train.shape"
   ]
  },
  {
   "cell_type": "code",
   "execution_count": 16,
   "metadata": {},
   "outputs": [
    {
     "data": {
      "text/plain": [
       "1036.0"
      ]
     },
     "execution_count": 16,
     "metadata": {},
     "output_type": "execute_result"
    }
   ],
   "source": [
    "X_train.shape[0] / 5"
   ]
  },
  {
   "cell_type": "code",
   "execution_count": 17,
   "metadata": {},
   "outputs": [
    {
     "data": {
      "text/plain": [
       "[<matplotlib.lines.Line2D at 0x7f371814e730>]"
      ]
     },
     "execution_count": 17,
     "metadata": {},
     "output_type": "execute_result"
    },
    {
     "data": {
      "image/png": "[encoded data removed]",
      "text/plain": [
       "<Figure size 640x480 with 1 Axes>"
      ]
     },
     "metadata": {},
     "output_type": "display_data"
    }
   ],
   "source": [
    "plt.plot(losses)"
   ]
  },
  {
   "cell_type": "code",
   "execution_count": null,
   "metadata": {},
   "outputs": [],
   "source": [
    "torch.save(model.state_dict(), 'pdnn.pt')"
   ]
  }
 ],
 "metadata": {
  "kernelspec": {
   "display_name": "Python 3.9.12 ('csi4133')",
   "language": "python",
   "name": "python3"
  },
  "language_info": {
   "codemirror_mode": {
    "name": "ipython",
    "version": 3
   },
   "file_extension": ".py",
   "mimetype": "text/x-python",
   "name": "python",
   "nbconvert_exporter": "python",
   "pygments_lexer": "ipython3",
   "version": "3.9.12"
  },
  "orig_nbformat": 4,
  "vscode": {
   "interpreter": {
    "hash": "2f41136a46dbc985f0dfd7257394d9dd636ba3a1255dd07d589bf2551292832b"
   }
  }
 },
 "nbformat": 4,
 "nbformat_minor": 2
}
