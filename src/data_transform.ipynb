{
 "cells": [
  {
   "cell_type": "code",
   "execution_count": 1,
   "metadata": {},
   "outputs": [],
   "source": [
    "import torch\n",
    "import cv2\n",
    "import numpy as np\n",
    "import matplotlib.pyplot as plt\n",
    "import pandas as pd"
   ]
  },
  {
   "cell_type": "code",
   "execution_count": 2,
   "metadata": {},
   "outputs": [
    {
     "data": {
      "text/html": [
       "<div>\n",
       "<style scoped>\n",
       "    .dataframe tbody tr th:only-of-type {\n",
       "        vertical-align: middle;\n",
       "    }\n",
       "\n",
       "    .dataframe tbody tr th {\n",
       "        vertical-align: top;\n",
       "    }\n",
       "\n",
       "    .dataframe thead th {\n",
       "        text-align: right;\n",
       "    }\n",
       "</style>\n",
       "<table border=\"1\" class=\"dataframe\">\n",
       "  <thead>\n",
       "    <tr style=\"text-align: right;\">\n",
       "      <th></th>\n",
       "      <th>fno</th>\n",
       "      <th>xmin</th>\n",
       "      <th>ymin</th>\n",
       "      <th>xmax</th>\n",
       "      <th>ymax</th>\n",
       "      <th>confidence</th>\n",
       "      <th>cls</th>\n",
       "    </tr>\n",
       "  </thead>\n",
       "  <tbody>\n",
       "    <tr>\n",
       "      <th>0</th>\n",
       "      <td>0</td>\n",
       "      <td>815.328613</td>\n",
       "      <td>414.294556</td>\n",
       "      <td>1023.535522</td>\n",
       "      <td>710.458862</td>\n",
       "      <td>0.840505</td>\n",
       "      <td>1.0</td>\n",
       "    </tr>\n",
       "    <tr>\n",
       "      <th>1</th>\n",
       "      <td>1</td>\n",
       "      <td>815.099548</td>\n",
       "      <td>416.698364</td>\n",
       "      <td>1024.056885</td>\n",
       "      <td>710.406616</td>\n",
       "      <td>0.839022</td>\n",
       "      <td>1.0</td>\n",
       "    </tr>\n",
       "    <tr>\n",
       "      <th>2</th>\n",
       "      <td>2</td>\n",
       "      <td>816.624023</td>\n",
       "      <td>416.424591</td>\n",
       "      <td>1025.664185</td>\n",
       "      <td>707.520020</td>\n",
       "      <td>0.802077</td>\n",
       "      <td>1.0</td>\n",
       "    </tr>\n",
       "    <tr>\n",
       "      <th>3</th>\n",
       "      <td>3</td>\n",
       "      <td>815.463745</td>\n",
       "      <td>414.316956</td>\n",
       "      <td>1025.545410</td>\n",
       "      <td>707.625366</td>\n",
       "      <td>0.820569</td>\n",
       "      <td>1.0</td>\n",
       "    </tr>\n",
       "    <tr>\n",
       "      <th>4</th>\n",
       "      <td>11</td>\n",
       "      <td>818.357239</td>\n",
       "      <td>411.877686</td>\n",
       "      <td>1025.415894</td>\n",
       "      <td>708.695923</td>\n",
       "      <td>0.819219</td>\n",
       "      <td>1.0</td>\n",
       "    </tr>\n",
       "  </tbody>\n",
       "</table>\n",
       "</div>"
      ],
      "text/plain": [
       "   fno        xmin        ymin         xmax        ymax  confidence  cls\n",
       "0    0  815.328613  414.294556  1023.535522  710.458862    0.840505  1.0\n",
       "1    1  815.099548  416.698364  1024.056885  710.406616    0.839022  1.0\n",
       "2    2  816.624023  416.424591  1025.664185  707.520020    0.802077  1.0\n",
       "3    3  815.463745  414.316956  1025.545410  707.625366    0.820569  1.0\n",
       "4   11  818.357239  411.877686  1025.415894  708.695923    0.819219  1.0"
      ]
     },
     "execution_count": 2,
     "metadata": {},
     "output_type": "execute_result"
    }
   ],
   "source": [
    "df = pd.read_csv('./traces.csv')\n",
    "df.head()"
   ]
  },
  {
   "cell_type": "code",
   "execution_count": 3,
   "metadata": {},
   "outputs": [
    {
     "data": {
      "text/plain": [
       "438"
      ]
     },
     "execution_count": 3,
     "metadata": {},
     "output_type": "execute_result"
    }
   ],
   "source": [
    "df['fno'].count()"
   ]
  },
  {
   "cell_type": "code",
   "execution_count": 4,
   "metadata": {},
   "outputs": [
    {
     "data": {
      "text/plain": [
       "438"
      ]
     },
     "execution_count": 4,
     "metadata": {},
     "output_type": "execute_result"
    }
   ],
   "source": [
    "df_conf_filtered = df[df['confidence'] > 0.7].reset_index(drop=True)\n",
    "df_conf_filtered['fno'].count()"
   ]
  },
  {
   "cell_type": "code",
   "execution_count": 5,
   "metadata": {},
   "outputs": [
    {
     "data": {
      "text/plain": [
       "fno             int64\n",
       "xmin          float64\n",
       "ymin          float64\n",
       "xmax          float64\n",
       "ymax          float64\n",
       "confidence    float64\n",
       "cls           float64\n",
       "dtype: object"
      ]
     },
     "execution_count": 5,
     "metadata": {},
     "output_type": "execute_result"
    }
   ],
   "source": [
    "df_conf_filtered.dtypes"
   ]
  },
  {
   "cell_type": "code",
   "execution_count": 6,
   "metadata": {},
   "outputs": [
    {
     "data": {
      "text/html": [
       "<div>\n",
       "<style scoped>\n",
       "    .dataframe tbody tr th:only-of-type {\n",
       "        vertical-align: middle;\n",
       "    }\n",
       "\n",
       "    .dataframe tbody tr th {\n",
       "        vertical-align: top;\n",
       "    }\n",
       "\n",
       "    .dataframe thead th {\n",
       "        text-align: right;\n",
       "    }\n",
       "</style>\n",
       "<table border=\"1\" class=\"dataframe\">\n",
       "  <thead>\n",
       "    <tr style=\"text-align: right;\">\n",
       "      <th></th>\n",
       "      <th>fno</th>\n",
       "      <th>xmin</th>\n",
       "      <th>ymin</th>\n",
       "      <th>xmax</th>\n",
       "      <th>ymax</th>\n",
       "      <th>confidence</th>\n",
       "      <th>cls</th>\n",
       "    </tr>\n",
       "  </thead>\n",
       "  <tbody>\n",
       "    <tr>\n",
       "      <th>0</th>\n",
       "      <td>0</td>\n",
       "      <td>815.328613</td>\n",
       "      <td>414.294556</td>\n",
       "      <td>1023.535522</td>\n",
       "      <td>710.458862</td>\n",
       "      <td>0.840505</td>\n",
       "      <td>1.0</td>\n",
       "    </tr>\n",
       "    <tr>\n",
       "      <th>1</th>\n",
       "      <td>1</td>\n",
       "      <td>815.099548</td>\n",
       "      <td>416.698364</td>\n",
       "      <td>1024.056885</td>\n",
       "      <td>710.406616</td>\n",
       "      <td>0.839022</td>\n",
       "      <td>1.0</td>\n",
       "    </tr>\n",
       "    <tr>\n",
       "      <th>2</th>\n",
       "      <td>2</td>\n",
       "      <td>816.624023</td>\n",
       "      <td>416.424591</td>\n",
       "      <td>1025.664185</td>\n",
       "      <td>707.520020</td>\n",
       "      <td>0.802077</td>\n",
       "      <td>1.0</td>\n",
       "    </tr>\n",
       "    <tr>\n",
       "      <th>3</th>\n",
       "      <td>3</td>\n",
       "      <td>815.463745</td>\n",
       "      <td>414.316956</td>\n",
       "      <td>1025.545410</td>\n",
       "      <td>707.625366</td>\n",
       "      <td>0.820569</td>\n",
       "      <td>1.0</td>\n",
       "    </tr>\n",
       "    <tr>\n",
       "      <th>4</th>\n",
       "      <td>11</td>\n",
       "      <td>818.357239</td>\n",
       "      <td>411.877686</td>\n",
       "      <td>1025.415894</td>\n",
       "      <td>708.695923</td>\n",
       "      <td>0.819219</td>\n",
       "      <td>1.0</td>\n",
       "    </tr>\n",
       "  </tbody>\n",
       "</table>\n",
       "</div>"
      ],
      "text/plain": [
       "   fno        xmin        ymin         xmax        ymax  confidence  cls\n",
       "0    0  815.328613  414.294556  1023.535522  710.458862    0.840505  1.0\n",
       "1    1  815.099548  416.698364  1024.056885  710.406616    0.839022  1.0\n",
       "2    2  816.624023  416.424591  1025.664185  707.520020    0.802077  1.0\n",
       "3    3  815.463745  414.316956  1025.545410  707.625366    0.820569  1.0\n",
       "4   11  818.357239  411.877686  1025.415894  708.695923    0.819219  1.0"
      ]
     },
     "execution_count": 6,
     "metadata": {},
     "output_type": "execute_result"
    }
   ],
   "source": [
    "df_conf_filtered.head()"
   ]
  },
  {
   "cell_type": "code",
   "execution_count": 7,
   "metadata": {},
   "outputs": [],
   "source": [
    "cap = cv2.VideoCapture('../videos/capture.mp4')"
   ]
  },
  {
   "cell_type": "code",
   "execution_count": 8,
   "metadata": {},
   "outputs": [],
   "source": [
    "def mark_frame(cap, fno, pos, cls):\n",
    "    cap.set(cv2.CAP_PROP_POS_FRAMES, fno)\n",
    "    res, frame = cap.read()\n",
    "    if not res:\n",
    "        return None\n",
    "\n",
    "    print(pos[0:2])\n",
    "    print(pos[2:4])\n",
    "\n",
    "    img = cv2.rectangle(frame, pos[0:2], pos[2:4], (255, 0, 0), 6)\n",
    "    img = cv2.putText(img, f'{cls}', (50, 50), cv2.FONT_HERSHEY_SIMPLEX, 1, (255, 0, 0), 2, cv2.LINE_AA)\n",
    "    return img\n",
    "\n",
    "def mark_and_show(cap, fno, pos, cls):\n",
    "    img = mark_frame(cap, fno, pos, cls) \n",
    "    rgb = cv2.cvtColor(img, cv2.COLOR_BGR2RGB)\n",
    "    plt.imshow(rgb)\n",
    "    plt.show()\n"
   ]
  },
  {
   "cell_type": "code",
   "execution_count": 9,
   "metadata": {},
   "outputs": [
    {
     "data": {
      "text/plain": [
       "array([   0,  815,  414, 1023,  710,    0,    1], dtype=int32)"
      ]
     },
     "execution_count": 9,
     "metadata": {},
     "output_type": "execute_result"
    }
   ],
   "source": [
    "record = df_conf_filtered.iloc[0, :].to_numpy().astype(np.int32)\n",
    "record"
   ]
  },
  {
   "cell_type": "code",
   "execution_count": 10,
   "metadata": {},
   "outputs": [
    {
     "name": "stdout",
     "output_type": "stream",
     "text": [
      "[815 414]\n",
      "[1023  710]\n"
     ]
    }
   ],
   "source": [
    "marked = mark_frame(cap, record[0], record[1:5], record[5])"
   ]
  },
  {
   "cell_type": "code",
   "execution_count": 11,
   "metadata": {},
   "outputs": [],
   "source": [
    "# parameters\n",
    "window_size = 5\n",
    "with open('./window_size.txt', 'r') as f:\n",
    "    s = f.read()\n",
    "    window_size = int(s)"
   ]
  },
  {
   "cell_type": "code",
   "execution_count": 12,
   "metadata": {},
   "outputs": [
    {
     "name": "stdout",
     "output_type": "stream",
     "text": [
      "['0_xmin', '0_ymin', '0_xmax', '0_ymax', '0_cls', '1_xmin', '1_ymin', '1_xmax', '1_ymax', '1_cls', '2_xmin', '2_ymin', '2_xmax', '2_ymax', '2_cls', '3_xmin', '3_ymin', '3_xmax', '3_ymax', '3_cls', '4_xmin', '4_ymin', '4_xmax', '4_ymax', '4_cls', '5_xmin', '5_ymin', '5_xmax', '5_ymax', '5_cls', '6_xmin', '6_ymin', '6_xmax', '6_ymax', '6_cls', '7_xmin', '7_ymin', '7_xmax', '7_ymax', '7_cls', '8_xmin', '8_ymin', '8_xmax', '8_ymax', '8_cls', '9_xmin', '9_ymin', '9_xmax', '9_ymax', '9_cls', 'waving']\n",
      "51\n"
     ]
    }
   ],
   "source": [
    "# prepare x axis\n",
    "labels = df_conf_filtered.columns.drop(['fno', 'confidence'])\n",
    "new_labels = []\n",
    "\n",
    "for i in range(window_size):\n",
    "    for label in labels:\n",
    "        new_labels.append(f'{i}_{label}')\n",
    "\n",
    "new_labels.append('waving')\n",
    "print(new_labels)\n",
    "print(len(new_labels))"
   ]
  },
  {
   "cell_type": "code",
   "execution_count": 13,
   "metadata": {},
   "outputs": [],
   "source": [
    "import json\n",
    "\n",
    "f = open('../data/timeseries/waving.json')\n",
    "ts_result = json.load(f)\n",
    "f.close()"
   ]
  },
  {
   "cell_type": "code",
   "execution_count": 14,
   "metadata": {},
   "outputs": [],
   "source": [
    "results = ts_result[0]['annotations'][0]['result']\n",
    "results\n",
    "\n",
    "waving_ranges = []\n",
    "\n",
    "for result in results:\n",
    "    waving_ranges.append((result['value']['start'], result['value']['end']))"
   ]
  },
  {
   "cell_type": "code",
   "execution_count": 15,
   "metadata": {},
   "outputs": [
    {
     "data": {
      "text/plain": [
       "[(68, 150), (320, 380), (490, 551)]"
      ]
     },
     "execution_count": 15,
     "metadata": {},
     "output_type": "execute_result"
    }
   ],
   "source": [
    "waving_ranges"
   ]
  },
  {
   "cell_type": "code",
   "execution_count": 16,
   "metadata": {},
   "outputs": [],
   "source": [
    "length = df_conf_filtered.shape[0]\n",
    "\n",
    "target = pd.DataFrame([], columns=new_labels)\n",
    "for i in range(0, length-window_size):\n",
    "    sub_df = df_conf_filtered.iloc[i:i+window_size, :]    \n",
    "    if sub_df.iloc[window_size-1]['fno'] - sub_df.iloc[0]['fno'] == window_size-1:\n",
    "        waving = False\n",
    "        for rg in waving_ranges:\n",
    "            if sub_df.iloc[window_size-1]['fno'] <= rg[1] and sub_df.iloc[0]['fno'] >= rg[0]:\n",
    "                waving = True\n",
    "                break\n",
    "        \n",
    "        sub_df = sub_df.drop(['fno', 'confidence'], axis=1)\n",
    "        sub_widen = np.concatenate([\n",
    "            sub_df.to_numpy().reshape(window_size*len(sub_df.columns)),\n",
    "            np.array([waving])\n",
    "        ]).reshape(1, window_size*len(sub_df.columns) + 1)\n",
    "        sub_df_widen = pd.DataFrame(sub_widen, columns=new_labels)\n",
    "\n",
    "        target = pd.concat([target, sub_df_widen])"
   ]
  },
  {
   "cell_type": "code",
   "execution_count": 17,
   "metadata": {},
   "outputs": [
    {
     "data": {
      "text/html": [
       "<div>\n",
       "<style scoped>\n",
       "    .dataframe tbody tr th:only-of-type {\n",
       "        vertical-align: middle;\n",
       "    }\n",
       "\n",
       "    .dataframe tbody tr th {\n",
       "        vertical-align: top;\n",
       "    }\n",
       "\n",
       "    .dataframe thead th {\n",
       "        text-align: right;\n",
       "    }\n",
       "</style>\n",
       "<table border=\"1\" class=\"dataframe\">\n",
       "  <thead>\n",
       "    <tr style=\"text-align: right;\">\n",
       "      <th></th>\n",
       "      <th>0_xmin</th>\n",
       "      <th>0_ymin</th>\n",
       "      <th>0_xmax</th>\n",
       "      <th>0_ymax</th>\n",
       "      <th>0_cls</th>\n",
       "      <th>1_xmin</th>\n",
       "      <th>1_ymin</th>\n",
       "      <th>1_xmax</th>\n",
       "      <th>1_ymax</th>\n",
       "      <th>1_cls</th>\n",
       "      <th>...</th>\n",
       "      <th>8_ymin</th>\n",
       "      <th>8_xmax</th>\n",
       "      <th>8_ymax</th>\n",
       "      <th>8_cls</th>\n",
       "      <th>9_xmin</th>\n",
       "      <th>9_ymin</th>\n",
       "      <th>9_xmax</th>\n",
       "      <th>9_ymax</th>\n",
       "      <th>9_cls</th>\n",
       "      <th>waving</th>\n",
       "    </tr>\n",
       "  </thead>\n",
       "  <tbody>\n",
       "    <tr>\n",
       "      <th>0</th>\n",
       "      <td>447.183441</td>\n",
       "      <td>367.721252</td>\n",
       "      <td>762.262268</td>\n",
       "      <td>609.651672</td>\n",
       "      <td>3.0</td>\n",
       "      <td>452.539215</td>\n",
       "      <td>329.056763</td>\n",
       "      <td>771.376282</td>\n",
       "      <td>595.739868</td>\n",
       "      <td>3.0</td>\n",
       "      <td>...</td>\n",
       "      <td>131.966110</td>\n",
       "      <td>855.432617</td>\n",
       "      <td>466.804382</td>\n",
       "      <td>3.0</td>\n",
       "      <td>546.723816</td>\n",
       "      <td>113.688324</td>\n",
       "      <td>863.511047</td>\n",
       "      <td>452.275787</td>\n",
       "      <td>3.0</td>\n",
       "      <td>0.0</td>\n",
       "    </tr>\n",
       "    <tr>\n",
       "      <th>0</th>\n",
       "      <td>452.539215</td>\n",
       "      <td>329.056763</td>\n",
       "      <td>771.376282</td>\n",
       "      <td>595.739868</td>\n",
       "      <td>3.0</td>\n",
       "      <td>469.208527</td>\n",
       "      <td>293.963135</td>\n",
       "      <td>792.578796</td>\n",
       "      <td>565.052612</td>\n",
       "      <td>3.0</td>\n",
       "      <td>...</td>\n",
       "      <td>113.688324</td>\n",
       "      <td>863.511047</td>\n",
       "      <td>452.275787</td>\n",
       "      <td>3.0</td>\n",
       "      <td>570.173767</td>\n",
       "      <td>106.929611</td>\n",
       "      <td>879.735474</td>\n",
       "      <td>438.451965</td>\n",
       "      <td>3.0</td>\n",
       "      <td>0.0</td>\n",
       "    </tr>\n",
       "    <tr>\n",
       "      <th>0</th>\n",
       "      <td>469.208527</td>\n",
       "      <td>293.963135</td>\n",
       "      <td>792.578796</td>\n",
       "      <td>565.052612</td>\n",
       "      <td>3.0</td>\n",
       "      <td>484.448669</td>\n",
       "      <td>253.992157</td>\n",
       "      <td>781.193726</td>\n",
       "      <td>541.653442</td>\n",
       "      <td>3.0</td>\n",
       "      <td>...</td>\n",
       "      <td>106.929611</td>\n",
       "      <td>879.735474</td>\n",
       "      <td>438.451965</td>\n",
       "      <td>3.0</td>\n",
       "      <td>585.968628</td>\n",
       "      <td>95.638176</td>\n",
       "      <td>886.465027</td>\n",
       "      <td>430.025482</td>\n",
       "      <td>3.0</td>\n",
       "      <td>0.0</td>\n",
       "    </tr>\n",
       "    <tr>\n",
       "      <th>0</th>\n",
       "      <td>484.448669</td>\n",
       "      <td>253.992157</td>\n",
       "      <td>781.193726</td>\n",
       "      <td>541.653442</td>\n",
       "      <td>3.0</td>\n",
       "      <td>488.186737</td>\n",
       "      <td>221.486725</td>\n",
       "      <td>798.628296</td>\n",
       "      <td>527.634033</td>\n",
       "      <td>3.0</td>\n",
       "      <td>...</td>\n",
       "      <td>95.638176</td>\n",
       "      <td>886.465027</td>\n",
       "      <td>430.025482</td>\n",
       "      <td>3.0</td>\n",
       "      <td>601.677063</td>\n",
       "      <td>82.272400</td>\n",
       "      <td>890.410217</td>\n",
       "      <td>429.059723</td>\n",
       "      <td>3.0</td>\n",
       "      <td>0.0</td>\n",
       "    </tr>\n",
       "    <tr>\n",
       "      <th>0</th>\n",
       "      <td>488.186737</td>\n",
       "      <td>221.486725</td>\n",
       "      <td>798.628296</td>\n",
       "      <td>527.634033</td>\n",
       "      <td>3.0</td>\n",
       "      <td>503.780029</td>\n",
       "      <td>201.353729</td>\n",
       "      <td>823.501465</td>\n",
       "      <td>515.097473</td>\n",
       "      <td>3.0</td>\n",
       "      <td>...</td>\n",
       "      <td>82.272400</td>\n",
       "      <td>890.410217</td>\n",
       "      <td>429.059723</td>\n",
       "      <td>3.0</td>\n",
       "      <td>598.257812</td>\n",
       "      <td>73.965874</td>\n",
       "      <td>894.807373</td>\n",
       "      <td>413.812225</td>\n",
       "      <td>3.0</td>\n",
       "      <td>0.0</td>\n",
       "    </tr>\n",
       "    <tr>\n",
       "      <th>...</th>\n",
       "      <td>...</td>\n",
       "      <td>...</td>\n",
       "      <td>...</td>\n",
       "      <td>...</td>\n",
       "      <td>...</td>\n",
       "      <td>...</td>\n",
       "      <td>...</td>\n",
       "      <td>...</td>\n",
       "      <td>...</td>\n",
       "      <td>...</td>\n",
       "      <td>...</td>\n",
       "      <td>...</td>\n",
       "      <td>...</td>\n",
       "      <td>...</td>\n",
       "      <td>...</td>\n",
       "      <td>...</td>\n",
       "      <td>...</td>\n",
       "      <td>...</td>\n",
       "      <td>...</td>\n",
       "      <td>...</td>\n",
       "      <td>...</td>\n",
       "    </tr>\n",
       "    <tr>\n",
       "      <th>0</th>\n",
       "      <td>699.461426</td>\n",
       "      <td>423.733612</td>\n",
       "      <td>957.452942</td>\n",
       "      <td>708.651062</td>\n",
       "      <td>1.0</td>\n",
       "      <td>699.406982</td>\n",
       "      <td>424.680389</td>\n",
       "      <td>961.169250</td>\n",
       "      <td>707.563049</td>\n",
       "      <td>1.0</td>\n",
       "      <td>...</td>\n",
       "      <td>400.851044</td>\n",
       "      <td>948.700256</td>\n",
       "      <td>704.219666</td>\n",
       "      <td>1.0</td>\n",
       "      <td>702.851440</td>\n",
       "      <td>399.100464</td>\n",
       "      <td>949.783997</td>\n",
       "      <td>700.597107</td>\n",
       "      <td>1.0</td>\n",
       "      <td>0.0</td>\n",
       "    </tr>\n",
       "    <tr>\n",
       "      <th>0</th>\n",
       "      <td>699.406982</td>\n",
       "      <td>424.680389</td>\n",
       "      <td>961.169250</td>\n",
       "      <td>707.563049</td>\n",
       "      <td>1.0</td>\n",
       "      <td>698.133545</td>\n",
       "      <td>420.932404</td>\n",
       "      <td>959.700623</td>\n",
       "      <td>707.883362</td>\n",
       "      <td>1.0</td>\n",
       "      <td>...</td>\n",
       "      <td>399.100464</td>\n",
       "      <td>949.783997</td>\n",
       "      <td>700.597107</td>\n",
       "      <td>1.0</td>\n",
       "      <td>701.266479</td>\n",
       "      <td>395.763855</td>\n",
       "      <td>949.154297</td>\n",
       "      <td>702.368164</td>\n",
       "      <td>1.0</td>\n",
       "      <td>0.0</td>\n",
       "    </tr>\n",
       "    <tr>\n",
       "      <th>0</th>\n",
       "      <td>698.133545</td>\n",
       "      <td>420.932404</td>\n",
       "      <td>959.700623</td>\n",
       "      <td>707.883362</td>\n",
       "      <td>1.0</td>\n",
       "      <td>701.597412</td>\n",
       "      <td>419.343658</td>\n",
       "      <td>957.017029</td>\n",
       "      <td>707.357666</td>\n",
       "      <td>1.0</td>\n",
       "      <td>...</td>\n",
       "      <td>395.763855</td>\n",
       "      <td>949.154297</td>\n",
       "      <td>702.368164</td>\n",
       "      <td>1.0</td>\n",
       "      <td>700.758301</td>\n",
       "      <td>395.922302</td>\n",
       "      <td>950.325012</td>\n",
       "      <td>699.133972</td>\n",
       "      <td>1.0</td>\n",
       "      <td>0.0</td>\n",
       "    </tr>\n",
       "    <tr>\n",
       "      <th>0</th>\n",
       "      <td>701.597412</td>\n",
       "      <td>419.343658</td>\n",
       "      <td>957.017029</td>\n",
       "      <td>707.357666</td>\n",
       "      <td>1.0</td>\n",
       "      <td>701.923828</td>\n",
       "      <td>416.039215</td>\n",
       "      <td>954.468933</td>\n",
       "      <td>706.537292</td>\n",
       "      <td>1.0</td>\n",
       "      <td>...</td>\n",
       "      <td>395.922302</td>\n",
       "      <td>950.325012</td>\n",
       "      <td>699.133972</td>\n",
       "      <td>1.0</td>\n",
       "      <td>699.762573</td>\n",
       "      <td>397.087250</td>\n",
       "      <td>951.128723</td>\n",
       "      <td>701.405823</td>\n",
       "      <td>1.0</td>\n",
       "      <td>0.0</td>\n",
       "    </tr>\n",
       "    <tr>\n",
       "      <th>0</th>\n",
       "      <td>701.923828</td>\n",
       "      <td>416.039215</td>\n",
       "      <td>954.468933</td>\n",
       "      <td>706.537292</td>\n",
       "      <td>1.0</td>\n",
       "      <td>703.921814</td>\n",
       "      <td>414.143005</td>\n",
       "      <td>953.432739</td>\n",
       "      <td>706.265503</td>\n",
       "      <td>1.0</td>\n",
       "      <td>...</td>\n",
       "      <td>397.087250</td>\n",
       "      <td>951.128723</td>\n",
       "      <td>701.405823</td>\n",
       "      <td>1.0</td>\n",
       "      <td>698.740051</td>\n",
       "      <td>397.121307</td>\n",
       "      <td>951.010803</td>\n",
       "      <td>700.410706</td>\n",
       "      <td>1.0</td>\n",
       "      <td>0.0</td>\n",
       "    </tr>\n",
       "  </tbody>\n",
       "</table>\n",
       "<p>341 rows × 51 columns</p>\n",
       "</div>"
      ],
      "text/plain": [
       "        0_xmin      0_ymin      0_xmax      0_ymax  0_cls      1_xmin  \\\n",
       "0   447.183441  367.721252  762.262268  609.651672    3.0  452.539215   \n",
       "0   452.539215  329.056763  771.376282  595.739868    3.0  469.208527   \n",
       "0   469.208527  293.963135  792.578796  565.052612    3.0  484.448669   \n",
       "0   484.448669  253.992157  781.193726  541.653442    3.0  488.186737   \n",
       "0   488.186737  221.486725  798.628296  527.634033    3.0  503.780029   \n",
       "..         ...         ...         ...         ...    ...         ...   \n",
       "0   699.461426  423.733612  957.452942  708.651062    1.0  699.406982   \n",
       "0   699.406982  424.680389  961.169250  707.563049    1.0  698.133545   \n",
       "0   698.133545  420.932404  959.700623  707.883362    1.0  701.597412   \n",
       "0   701.597412  419.343658  957.017029  707.357666    1.0  701.923828   \n",
       "0   701.923828  416.039215  954.468933  706.537292    1.0  703.921814   \n",
       "\n",
       "        1_ymin      1_xmax      1_ymax  1_cls  ...      8_ymin      8_xmax  \\\n",
       "0   329.056763  771.376282  595.739868    3.0  ...  131.966110  855.432617   \n",
       "0   293.963135  792.578796  565.052612    3.0  ...  113.688324  863.511047   \n",
       "0   253.992157  781.193726  541.653442    3.0  ...  106.929611  879.735474   \n",
       "0   221.486725  798.628296  527.634033    3.0  ...   95.638176  886.465027   \n",
       "0   201.353729  823.501465  515.097473    3.0  ...   82.272400  890.410217   \n",
       "..         ...         ...         ...    ...  ...         ...         ...   \n",
       "0   424.680389  961.169250  707.563049    1.0  ...  400.851044  948.700256   \n",
       "0   420.932404  959.700623  707.883362    1.0  ...  399.100464  949.783997   \n",
       "0   419.343658  957.017029  707.357666    1.0  ...  395.763855  949.154297   \n",
       "0   416.039215  954.468933  706.537292    1.0  ...  395.922302  950.325012   \n",
       "0   414.143005  953.432739  706.265503    1.0  ...  397.087250  951.128723   \n",
       "\n",
       "        8_ymax  8_cls      9_xmin      9_ymin      9_xmax      9_ymax  9_cls  \\\n",
       "0   466.804382    3.0  546.723816  113.688324  863.511047  452.275787    3.0   \n",
       "0   452.275787    3.0  570.173767  106.929611  879.735474  438.451965    3.0   \n",
       "0   438.451965    3.0  585.968628   95.638176  886.465027  430.025482    3.0   \n",
       "0   430.025482    3.0  601.677063   82.272400  890.410217  429.059723    3.0   \n",
       "0   429.059723    3.0  598.257812   73.965874  894.807373  413.812225    3.0   \n",
       "..         ...    ...         ...         ...         ...         ...    ...   \n",
       "0   704.219666    1.0  702.851440  399.100464  949.783997  700.597107    1.0   \n",
       "0   700.597107    1.0  701.266479  395.763855  949.154297  702.368164    1.0   \n",
       "0   702.368164    1.0  700.758301  395.922302  950.325012  699.133972    1.0   \n",
       "0   699.133972    1.0  699.762573  397.087250  951.128723  701.405823    1.0   \n",
       "0   701.405823    1.0  698.740051  397.121307  951.010803  700.410706    1.0   \n",
       "\n",
       "    waving  \n",
       "0      0.0  \n",
       "0      0.0  \n",
       "0      0.0  \n",
       "0      0.0  \n",
       "0      0.0  \n",
       "..     ...  \n",
       "0      0.0  \n",
       "0      0.0  \n",
       "0      0.0  \n",
       "0      0.0  \n",
       "0      0.0  \n",
       "\n",
       "[341 rows x 51 columns]"
      ]
     },
     "execution_count": 17,
     "metadata": {},
     "output_type": "execute_result"
    }
   ],
   "source": [
    "target"
   ]
  },
  {
   "cell_type": "code",
   "execution_count": 18,
   "metadata": {},
   "outputs": [],
   "source": [
    "target.to_csv('./traces_seq.csv', index=False)"
   ]
  },
  {
   "cell_type": "code",
   "execution_count": 19,
   "metadata": {},
   "outputs": [],
   "source": [
    "with open('./window_size.txt', 'w') as f:\n",
    "    f.write(f'{window_size}')"
   ]
  },
  {
   "cell_type": "code",
   "execution_count": 20,
   "metadata": {},
   "outputs": [],
   "source": [
    "a = np.array([1, 2, 3])"
   ]
  },
  {
   "cell_type": "code",
   "execution_count": 21,
   "metadata": {},
   "outputs": [
    {
     "data": {
      "text/plain": [
       "array([1, 2, 3, 1])"
      ]
     },
     "execution_count": 21,
     "metadata": {},
     "output_type": "execute_result"
    }
   ],
   "source": [
    "np.concatenate([a, np.array([1])], axis=0)"
   ]
  },
  {
   "cell_type": "code",
   "execution_count": 22,
   "metadata": {},
   "outputs": [
    {
     "data": {
      "text/plain": [
       "False"
      ]
     },
     "execution_count": 22,
     "metadata": {},
     "output_type": "execute_result"
    }
   ],
   "source": [
    "sub_df = df_conf_filtered.iloc[0:5, :]\n",
    "sub_df.iloc[4]['fno'] > waving_ranges[0][0]"
   ]
  },
  {
   "cell_type": "code",
   "execution_count": null,
   "metadata": {},
   "outputs": [],
   "source": []
  }
 ],
 "metadata": {
  "kernelspec": {
   "display_name": "Python 3.9.12 ('csi4133')",
   "language": "python",
   "name": "python3"
  },
  "language_info": {
   "codemirror_mode": {
    "name": "ipython",
    "version": 3
   },
   "file_extension": ".py",
   "mimetype": "text/x-python",
   "name": "python",
   "nbconvert_exporter": "python",
   "pygments_lexer": "ipython3",
   "version": "3.9.12"
  },
  "orig_nbformat": 4,
  "vscode": {
   "interpreter": {
    "hash": "2f41136a46dbc985f0dfd7257394d9dd636ba3a1255dd07d589bf2551292832b"
   }
  }
 },
 "nbformat": 4,
 "nbformat_minor": 2
}
