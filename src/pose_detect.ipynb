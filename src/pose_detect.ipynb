{
 "cells": [
  {
   "cell_type": "code",
   "execution_count": 57,
   "metadata": {},
   "outputs": [],
   "source": [
    "import torch\n",
    "import torch.nn as nn\n",
    "import torch.nn.functional as F\n",
    "import numpy as np\n",
    "import matplotlib.pyplot as plt\n",
    "import pandas as pd"
   ]
  },
  {
   "cell_type": "code",
   "execution_count": 58,
   "metadata": {},
   "outputs": [
    {
     "name": "stdout",
     "output_type": "stream",
     "text": [
      "window size:  10\n",
      "classes len:  5\n",
      "{0: 'left', 1: 'noise', 2: 'one', 3: 'right', 4: 'thumbup'}\n"
     ]
    }
   ],
   "source": [
    "# Data preparing\n",
    "df = pd.read_csv('./traces_seq.csv')\n",
    "window_size = None\n",
    "with open('./window_size.txt', 'r') as f:\n",
    "    window_size = int(f.read())\n",
    "\n",
    "classes = []\n",
    "classes_len = 0\n",
    "with open('../data/classes.txt', 'r') as f:\n",
    "    classes = f.read().splitlines()\n",
    "    classes_len = len(classes)\n",
    "\n",
    "class_mapping = {\n",
    "    key: classes[key] for key in range(len(classes))\n",
    "}\n",
    "print('window size: ', window_size)\n",
    "print('classes len: ', classes_len)\n",
    "print(class_mapping)"
   ]
  },
  {
   "cell_type": "code",
   "execution_count": 59,
   "metadata": {},
   "outputs": [],
   "source": [
    "def row_tranform(row):\n",
    "    # row = X.iloc[0, :].to_numpy().reshape((window_size, 5))\n",
    "    poses = row[:, :4]\n",
    "    clses = row[:, 4].astype(np.int32)\n",
    "    new_cls = []\n",
    "\n",
    "    for cls in clses:\n",
    "        new_cls.append(onehot_encode(cls, class_mapping))\n",
    "\n",
    "    new_cls = np.array(new_cls).reshape((window_size, classes_len))\n",
    "\n",
    "    return np.concatenate([poses, new_cls], axis=1)\n",
    "\n",
    "def onehot_encode(cls, mapping):\n",
    "    res = np.zeros(len(mapping))\n",
    "    res[cls] = 1\n",
    "\n",
    "    return res\n"
   ]
  },
  {
   "cell_type": "code",
   "execution_count": 60,
   "metadata": {},
   "outputs": [
    {
     "data": {
      "text/plain": [
       "(341, 50)"
      ]
     },
     "execution_count": 60,
     "metadata": {},
     "output_type": "execute_result"
    }
   ],
   "source": [
    "X = df.iloc[:, :5*window_size]\n",
    "y = df.iloc[:, 5*window_size]\n",
    "X.shape"
   ]
  },
  {
   "cell_type": "code",
   "execution_count": 89,
   "metadata": {},
   "outputs": [
    {
     "data": {
      "text/plain": [
       "(3410, 9)"
      ]
     },
     "execution_count": 89,
     "metadata": {},
     "output_type": "execute_result"
    }
   ],
   "source": [
    "\n",
    "X_train = []\n",
    "for i in range(len(X)):\n",
    "    row = X.iloc[i, :].to_numpy().reshape(window_size, 5)\n",
    "    X_train.append(row_tranform(row))\n",
    "\n",
    "X_train = np.array(X_train).reshape((window_size*X.shape[0], 4 + classes_len))\n",
    "X_train.shape"
   ]
  },
  {
   "cell_type": "code",
   "execution_count": 90,
   "metadata": {},
   "outputs": [],
   "source": [
    "# rescale to 0-1\n",
    "X_train[:, [0, 2]] = X_train[:, [0, 2]] / 1080\n",
    "X_train[:, [1, 3]] = X_train[:, [1, 3]] / 720"
   ]
  },
  {
   "cell_type": "code",
   "execution_count": 91,
   "metadata": {},
   "outputs": [
    {
     "data": {
      "text/plain": [
       "array([[0.41405874, 0.51072396, 0.7057984 , 0.84673843, 0.        ,\n",
       "        0.        , 0.        , 1.        , 0.        ],\n",
       "       [0.41901779, 0.45702328, 0.7142373 , 0.82741648, 0.        ,\n",
       "        0.        , 0.        , 1.        , 0.        ],\n",
       "       [0.43445234, 0.40828213, 0.73386926, 0.78479529, 0.        ,\n",
       "        0.        , 0.        , 1.        , 0.        ],\n",
       "       [0.44856358, 0.35276688, 0.72332752, 0.75229645, 0.        ,\n",
       "        0.        , 0.        , 1.        , 0.        ]])"
      ]
     },
     "execution_count": 91,
     "metadata": {},
     "output_type": "execute_result"
    }
   ],
   "source": [
    "X_train[:4, :]"
   ]
  },
  {
   "cell_type": "code",
   "execution_count": 101,
   "metadata": {},
   "outputs": [],
   "source": [
    "class PoseDetectNN(nn.Module):\n",
    "    def __init__(self, num_classes, pos_dimension, window_size, batch_size, bidirection=False,hidden_dim=10, rnn_hidden=10, rnn_layers=2) -> None:\n",
    "        super(PoseDetectNN, self).__init__()\n",
    "\n",
    "        self.batch_size = batch_size\n",
    "        self.rnn_layers = rnn_layers\n",
    "        self.rnn_hidden = rnn_hidden\n",
    "        self.num_classes = num_classes\n",
    "        self.pos_dimension = pos_dimension\n",
    "        self.window_size = window_size\n",
    "        self.bidirection = bidirection\n",
    "\n",
    "        self.linear = nn.Linear(num_classes + pos_dimension, out_features=hidden_dim)\n",
    "        self.rnn = nn.LSTM(hidden_dim, rnn_hidden, rnn_layers, bidirectional=bidirection, batch_first=True)\n",
    "        self.linear2 = nn.Linear((1+bidirection)*rnn_hidden, 1)\n",
    "        self.linear3 = nn.Linear(window_size, 1)\n",
    "    \n",
    "    def forward(self, x):\n",
    "        hidden = self.linear(x)\n",
    "\n",
    "        h0, c0 = self.init_hidden(self.batch_size, self.rnn_layers, self.rnn_hidden, self.bidirection)\n",
    "\n",
    "        out, (hn, cn) = self.rnn(hidden, (h0, c0))\n",
    "\n",
    "        out = self.linear2(out[:, window_size-1, :]).reshape((self.batch_size))\n",
    "        out = torch.sigmoid(out).view(-1)\n",
    "        # out = self.linear3(out)\n",
    "        # out = torch.sigmoid(out).view(-1)\n",
    "\n",
    "        return out\n",
    "    \n",
    "    def init_hidden(self, batch_size, rnn_layers, rnn_hidden, bidirection=False, device=torch.device(\"cuda\")):\n",
    "        h0 = torch.randn((1+bidirection)*rnn_layers, batch_size, rnn_hidden, device=device)\n",
    "        c0 = torch.randn((1+bidirection)*rnn_layers, batch_size, rnn_hidden, device=device)\n",
    "        return h0, c0\n",
    "        "
   ]
  },
  {
   "cell_type": "code",
   "execution_count": 102,
   "metadata": {},
   "outputs": [
    {
     "data": {
      "text/plain": [
       "PoseDetectNN(\n",
       "  (linear): Linear(in_features=9, out_features=10, bias=True)\n",
       "  (rnn): LSTM(10, 10, num_layers=2, batch_first=True)\n",
       "  (linear2): Linear(in_features=10, out_features=1, bias=True)\n",
       "  (linear3): Linear(in_features=10, out_features=1, bias=True)\n",
       ")"
      ]
     },
     "execution_count": 102,
     "metadata": {},
     "output_type": "execute_result"
    }
   ],
   "source": [
    "model = PoseDetectNN(classes_len, 4, window_size, 1)\n",
    "model.cuda()"
   ]
  },
  {
   "cell_type": "code",
   "execution_count": 103,
   "metadata": {},
   "outputs": [
    {
     "ename": "RuntimeError",
     "evalue": "Expected hidden[0] size (2, 1, 10), got [4, 1, 10]",
     "output_type": "error",
     "traceback": [
      "\u001b[0;31m---------------------------------------------------------------------------\u001b[0m",
      "\u001b[0;31mRuntimeError\u001b[0m                              Traceback (most recent call last)",
      "Cell \u001b[0;32mIn [103], line 2\u001b[0m\n\u001b[1;32m      1\u001b[0m t \u001b[39m=\u001b[39m torch\u001b[39m.\u001b[39mTensor(X_train[\u001b[39m0\u001b[39m:window_size, :])\u001b[39m.\u001b[39mreshape((\u001b[39m1\u001b[39m, window_size, \u001b[39m9\u001b[39m))\u001b[39m.\u001b[39mto(torch\u001b[39m.\u001b[39mdevice(\u001b[39m'\u001b[39m\u001b[39mcuda\u001b[39m\u001b[39m'\u001b[39m))\n\u001b[0;32m----> 2\u001b[0m output \u001b[39m=\u001b[39m model(t)\n\u001b[1;32m      3\u001b[0m label \u001b[39m=\u001b[39m torch\u001b[39m.\u001b[39mTensor([y[\u001b[39m0\u001b[39m]])\u001b[39m.\u001b[39mto(torch\u001b[39m.\u001b[39mdevice(\u001b[39m'\u001b[39m\u001b[39mcuda\u001b[39m\u001b[39m'\u001b[39m))\n",
      "File \u001b[0;32m~/miniconda3/envs/csi4133/lib/python3.9/site-packages/torch/nn/modules/module.py:1190\u001b[0m, in \u001b[0;36mModule._call_impl\u001b[0;34m(self, *input, **kwargs)\u001b[0m\n\u001b[1;32m   1186\u001b[0m \u001b[39m# If we don't have any hooks, we want to skip the rest of the logic in\u001b[39;00m\n\u001b[1;32m   1187\u001b[0m \u001b[39m# this function, and just call forward.\u001b[39;00m\n\u001b[1;32m   1188\u001b[0m \u001b[39mif\u001b[39;00m \u001b[39mnot\u001b[39;00m (\u001b[39mself\u001b[39m\u001b[39m.\u001b[39m_backward_hooks \u001b[39mor\u001b[39;00m \u001b[39mself\u001b[39m\u001b[39m.\u001b[39m_forward_hooks \u001b[39mor\u001b[39;00m \u001b[39mself\u001b[39m\u001b[39m.\u001b[39m_forward_pre_hooks \u001b[39mor\u001b[39;00m _global_backward_hooks\n\u001b[1;32m   1189\u001b[0m         \u001b[39mor\u001b[39;00m _global_forward_hooks \u001b[39mor\u001b[39;00m _global_forward_pre_hooks):\n\u001b[0;32m-> 1190\u001b[0m     \u001b[39mreturn\u001b[39;00m forward_call(\u001b[39m*\u001b[39;49m\u001b[39minput\u001b[39;49m, \u001b[39m*\u001b[39;49m\u001b[39m*\u001b[39;49mkwargs)\n\u001b[1;32m   1191\u001b[0m \u001b[39m# Do not call functions when jit is used\u001b[39;00m\n\u001b[1;32m   1192\u001b[0m full_backward_hooks, non_full_backward_hooks \u001b[39m=\u001b[39m [], []\n",
      "Cell \u001b[0;32mIn [101], line 22\u001b[0m, in \u001b[0;36mPoseDetectNN.forward\u001b[0;34m(self, x)\u001b[0m\n\u001b[1;32m     18\u001b[0m hidden \u001b[39m=\u001b[39m \u001b[39mself\u001b[39m\u001b[39m.\u001b[39mlinear(x)\n\u001b[1;32m     20\u001b[0m h0, c0 \u001b[39m=\u001b[39m \u001b[39mself\u001b[39m\u001b[39m.\u001b[39minit_hidden(\u001b[39mself\u001b[39m\u001b[39m.\u001b[39mbatch_size, \u001b[39mself\u001b[39m\u001b[39m.\u001b[39mrnn_layers, \u001b[39mself\u001b[39m\u001b[39m.\u001b[39mrnn_hidden)\n\u001b[0;32m---> 22\u001b[0m out, (hn, cn) \u001b[39m=\u001b[39m \u001b[39mself\u001b[39;49m\u001b[39m.\u001b[39;49mrnn(hidden, (h0, c0))\n\u001b[1;32m     24\u001b[0m out \u001b[39m=\u001b[39m \u001b[39mself\u001b[39m\u001b[39m.\u001b[39mlinear2(out[:, window_size\u001b[39m-\u001b[39m\u001b[39m1\u001b[39m, :])\u001b[39m.\u001b[39mreshape((\u001b[39mself\u001b[39m\u001b[39m.\u001b[39mbatch_size))\n\u001b[1;32m     25\u001b[0m out \u001b[39m=\u001b[39m torch\u001b[39m.\u001b[39msigmoid(out)\u001b[39m.\u001b[39mview(\u001b[39m-\u001b[39m\u001b[39m1\u001b[39m)\n",
      "File \u001b[0;32m~/miniconda3/envs/csi4133/lib/python3.9/site-packages/torch/nn/modules/module.py:1190\u001b[0m, in \u001b[0;36mModule._call_impl\u001b[0;34m(self, *input, **kwargs)\u001b[0m\n\u001b[1;32m   1186\u001b[0m \u001b[39m# If we don't have any hooks, we want to skip the rest of the logic in\u001b[39;00m\n\u001b[1;32m   1187\u001b[0m \u001b[39m# this function, and just call forward.\u001b[39;00m\n\u001b[1;32m   1188\u001b[0m \u001b[39mif\u001b[39;00m \u001b[39mnot\u001b[39;00m (\u001b[39mself\u001b[39m\u001b[39m.\u001b[39m_backward_hooks \u001b[39mor\u001b[39;00m \u001b[39mself\u001b[39m\u001b[39m.\u001b[39m_forward_hooks \u001b[39mor\u001b[39;00m \u001b[39mself\u001b[39m\u001b[39m.\u001b[39m_forward_pre_hooks \u001b[39mor\u001b[39;00m _global_backward_hooks\n\u001b[1;32m   1189\u001b[0m         \u001b[39mor\u001b[39;00m _global_forward_hooks \u001b[39mor\u001b[39;00m _global_forward_pre_hooks):\n\u001b[0;32m-> 1190\u001b[0m     \u001b[39mreturn\u001b[39;00m forward_call(\u001b[39m*\u001b[39;49m\u001b[39minput\u001b[39;49m, \u001b[39m*\u001b[39;49m\u001b[39m*\u001b[39;49mkwargs)\n\u001b[1;32m   1191\u001b[0m \u001b[39m# Do not call functions when jit is used\u001b[39;00m\n\u001b[1;32m   1192\u001b[0m full_backward_hooks, non_full_backward_hooks \u001b[39m=\u001b[39m [], []\n",
      "File \u001b[0;32m~/miniconda3/envs/csi4133/lib/python3.9/site-packages/torch/nn/modules/rnn.py:772\u001b[0m, in \u001b[0;36mLSTM.forward\u001b[0;34m(self, input, hx)\u001b[0m\n\u001b[1;32m    768\u001b[0m     \u001b[39m# Each batch of the hidden state should match the input sequence that\u001b[39;00m\n\u001b[1;32m    769\u001b[0m     \u001b[39m# the user believes he/she is passing in.\u001b[39;00m\n\u001b[1;32m    770\u001b[0m     hx \u001b[39m=\u001b[39m \u001b[39mself\u001b[39m\u001b[39m.\u001b[39mpermute_hidden(hx, sorted_indices)\n\u001b[0;32m--> 772\u001b[0m \u001b[39mself\u001b[39;49m\u001b[39m.\u001b[39;49mcheck_forward_args(\u001b[39minput\u001b[39;49m, hx, batch_sizes)\n\u001b[1;32m    773\u001b[0m \u001b[39mif\u001b[39;00m batch_sizes \u001b[39mis\u001b[39;00m \u001b[39mNone\u001b[39;00m:\n\u001b[1;32m    774\u001b[0m     result \u001b[39m=\u001b[39m _VF\u001b[39m.\u001b[39mlstm(\u001b[39minput\u001b[39m, hx, \u001b[39mself\u001b[39m\u001b[39m.\u001b[39m_flat_weights, \u001b[39mself\u001b[39m\u001b[39m.\u001b[39mbias, \u001b[39mself\u001b[39m\u001b[39m.\u001b[39mnum_layers,\n\u001b[1;32m    775\u001b[0m                       \u001b[39mself\u001b[39m\u001b[39m.\u001b[39mdropout, \u001b[39mself\u001b[39m\u001b[39m.\u001b[39mtraining, \u001b[39mself\u001b[39m\u001b[39m.\u001b[39mbidirectional, \u001b[39mself\u001b[39m\u001b[39m.\u001b[39mbatch_first)\n",
      "File \u001b[0;32m~/miniconda3/envs/csi4133/lib/python3.9/site-packages/torch/nn/modules/rnn.py:698\u001b[0m, in \u001b[0;36mLSTM.check_forward_args\u001b[0;34m(self, input, hidden, batch_sizes)\u001b[0m\n\u001b[1;32m    692\u001b[0m \u001b[39mdef\u001b[39;00m \u001b[39mcheck_forward_args\u001b[39m(\u001b[39mself\u001b[39m,  \u001b[39m# type: ignore[override]\u001b[39;00m\n\u001b[1;32m    693\u001b[0m                        \u001b[39minput\u001b[39m: Tensor,\n\u001b[1;32m    694\u001b[0m                        hidden: Tuple[Tensor, Tensor],\n\u001b[1;32m    695\u001b[0m                        batch_sizes: Optional[Tensor],\n\u001b[1;32m    696\u001b[0m                        ):\n\u001b[1;32m    697\u001b[0m     \u001b[39mself\u001b[39m\u001b[39m.\u001b[39mcheck_input(\u001b[39minput\u001b[39m, batch_sizes)\n\u001b[0;32m--> 698\u001b[0m     \u001b[39mself\u001b[39;49m\u001b[39m.\u001b[39;49mcheck_hidden_size(hidden[\u001b[39m0\u001b[39;49m], \u001b[39mself\u001b[39;49m\u001b[39m.\u001b[39;49mget_expected_hidden_size(\u001b[39minput\u001b[39;49m, batch_sizes),\n\u001b[1;32m    699\u001b[0m                            \u001b[39m'\u001b[39;49m\u001b[39mExpected hidden[0] size \u001b[39;49m\u001b[39m{}\u001b[39;49;00m\u001b[39m, got \u001b[39;49m\u001b[39m{}\u001b[39;49;00m\u001b[39m'\u001b[39;49m)\n\u001b[1;32m    700\u001b[0m     \u001b[39mself\u001b[39m\u001b[39m.\u001b[39mcheck_hidden_size(hidden[\u001b[39m1\u001b[39m], \u001b[39mself\u001b[39m\u001b[39m.\u001b[39mget_expected_cell_size(\u001b[39minput\u001b[39m, batch_sizes),\n\u001b[1;32m    701\u001b[0m                            \u001b[39m'\u001b[39m\u001b[39mExpected hidden[1] size \u001b[39m\u001b[39m{}\u001b[39;00m\u001b[39m, got \u001b[39m\u001b[39m{}\u001b[39;00m\u001b[39m'\u001b[39m)\n",
      "File \u001b[0;32m~/miniconda3/envs/csi4133/lib/python3.9/site-packages/torch/nn/modules/rnn.py:231\u001b[0m, in \u001b[0;36mRNNBase.check_hidden_size\u001b[0;34m(self, hx, expected_hidden_size, msg)\u001b[0m\n\u001b[1;32m    228\u001b[0m \u001b[39mdef\u001b[39;00m \u001b[39mcheck_hidden_size\u001b[39m(\u001b[39mself\u001b[39m, hx: Tensor, expected_hidden_size: Tuple[\u001b[39mint\u001b[39m, \u001b[39mint\u001b[39m, \u001b[39mint\u001b[39m],\n\u001b[1;32m    229\u001b[0m                       msg: \u001b[39mstr\u001b[39m \u001b[39m=\u001b[39m \u001b[39m'\u001b[39m\u001b[39mExpected hidden size \u001b[39m\u001b[39m{}\u001b[39;00m\u001b[39m, got \u001b[39m\u001b[39m{}\u001b[39;00m\u001b[39m'\u001b[39m) \u001b[39m-\u001b[39m\u001b[39m>\u001b[39m \u001b[39mNone\u001b[39;00m:\n\u001b[1;32m    230\u001b[0m     \u001b[39mif\u001b[39;00m hx\u001b[39m.\u001b[39msize() \u001b[39m!=\u001b[39m expected_hidden_size:\n\u001b[0;32m--> 231\u001b[0m         \u001b[39mraise\u001b[39;00m \u001b[39mRuntimeError\u001b[39;00m(msg\u001b[39m.\u001b[39mformat(expected_hidden_size, \u001b[39mlist\u001b[39m(hx\u001b[39m.\u001b[39msize())))\n",
      "\u001b[0;31mRuntimeError\u001b[0m: Expected hidden[0] size (2, 1, 10), got [4, 1, 10]"
     ]
    }
   ],
   "source": [
    "t = torch.Tensor(X_train[0:window_size, :]).reshape((1, window_size, 9)).to(torch.device('cuda'))\n",
    "output = model(t)\n",
    "label = torch.Tensor([y[0]]).to(torch.device('cuda'))"
   ]
  },
  {
   "cell_type": "code",
   "execution_count": 95,
   "metadata": {},
   "outputs": [
    {
     "data": {
      "text/plain": [
       "tensor(0.6959, device='cuda:0', grad_fn=<BinaryCrossEntropyBackward0>)"
      ]
     },
     "execution_count": 95,
     "metadata": {},
     "output_type": "execute_result"
    }
   ],
   "source": [
    "output = model(t)\n",
    "label = torch.Tensor([y[0]]).to(torch.device('cuda'))\n",
    "\n",
    "criterion = nn.BCELoss()\n",
    "loss = criterion(output, label)\n",
    "loss"
   ]
  },
  {
   "cell_type": "code",
   "execution_count": 98,
   "metadata": {},
   "outputs": [],
   "source": [
    "# train\n",
    "n_epochs = 500\n",
    "lr = 0.01\n",
    "device = torch.device('cuda')\n",
    "\n",
    "# criterion = nn.CrossEntropyLoss()\n",
    "criterion = nn.BCELoss()\n",
    "optimizer = torch.optim.Adam(model.parameters(), lr=lr)"
   ]
  },
  {
   "cell_type": "code",
   "execution_count": 99,
   "metadata": {},
   "outputs": [
    {
     "name": "stdout",
     "output_type": "stream",
     "text": [
      "Epoch: 10/500............. Loss: 205.5259\n",
      "Epoch: 20/500............. Loss: 173.3286\n",
      "Epoch: 30/500............. Loss: 152.9495\n",
      "Epoch: 40/500............. Loss: 139.1311\n",
      "Epoch: 50/500............. Loss: 140.2720\n",
      "Epoch: 60/500............. Loss: 130.0008\n",
      "Epoch: 70/500............. Loss: 128.5644\n",
      "Epoch: 80/500............. Loss: 122.2733\n",
      "Epoch: 90/500............. Loss: 123.1537\n",
      "Epoch: 100/500............. Loss: 115.5620\n",
      "Epoch: 110/500............. Loss: 120.2991\n",
      "Epoch: 120/500............. Loss: 108.2165\n",
      "Epoch: 130/500............. Loss: 109.7003\n",
      "Epoch: 140/500............. Loss: 94.7057\n",
      "Epoch: 150/500............. Loss: 91.0600\n",
      "Epoch: 160/500............. Loss: 86.4392\n",
      "Epoch: 170/500............. Loss: 71.7188\n",
      "Epoch: 180/500............. Loss: 73.8544\n",
      "Epoch: 190/500............. Loss: 67.9274\n",
      "Epoch: 200/500............. Loss: 69.3389\n",
      "Epoch: 210/500............. Loss: 61.3875\n",
      "Epoch: 220/500............. Loss: 58.8408\n",
      "Epoch: 230/500............. Loss: 63.3975\n",
      "Epoch: 240/500............. Loss: 60.1779\n",
      "Epoch: 250/500............. Loss: 60.0431\n",
      "Epoch: 260/500............. Loss: 56.3991\n",
      "Epoch: 270/500............. Loss: 56.0672\n",
      "Epoch: 280/500............. Loss: 54.6880\n",
      "Epoch: 290/500............. Loss: 65.0170\n",
      "Epoch: 300/500............. Loss: 56.7499\n",
      "Epoch: 310/500............. Loss: 58.4770\n",
      "Epoch: 320/500............. Loss: 53.2369\n",
      "Epoch: 330/500............. Loss: 48.3095\n",
      "Epoch: 340/500............. Loss: 51.9360\n",
      "Epoch: 350/500............. Loss: 52.1225\n",
      "Epoch: 360/500............. Loss: 46.4307\n",
      "Epoch: 370/500............. Loss: 52.3233\n",
      "Epoch: 380/500............. Loss: 60.9317\n",
      "Epoch: 390/500............. Loss: 60.9218\n",
      "Epoch: 400/500............. Loss: 56.3079\n",
      "Epoch: 410/500............. Loss: 48.6810\n",
      "Epoch: 420/500............. Loss: 48.3392\n",
      "Epoch: 430/500............. Loss: 50.1073\n",
      "Epoch: 440/500............. Loss: 46.0727\n",
      "Epoch: 450/500............. Loss: 48.4685\n",
      "Epoch: 460/500............. Loss: 49.4639\n",
      "Epoch: 470/500............. Loss: 44.0074\n",
      "Epoch: 480/500............. Loss: 46.2882\n",
      "Epoch: 490/500............. Loss: 43.1324\n",
      "Epoch: 500/500............. Loss: 47.0998\n"
     ]
    }
   ],
   "source": [
    "losses = []\n",
    "for epoch in range(1, n_epochs+1):\n",
    "    optimizer.zero_grad()\n",
    "    total_loss = 0\n",
    "    \n",
    "    for i in range(0, len(X_train), window_size):\n",
    "        _input = torch.Tensor(X_train[i:i+window_size, :].reshape(1, window_size, 4+classes_len)).to(device)\n",
    "        label = torch.Tensor([y[int(i/window_size)]]).to(device)\n",
    "        output = model(_input).to(device)\n",
    "\n",
    "        loss = criterion(output, label)\n",
    "        loss.backward()\n",
    "\n",
    "        total_loss += loss.item()\n",
    "\n",
    "    if epoch%10 == 0:\n",
    "        print('Epoch: {}/{}.............'.format(epoch, n_epochs), end=' ')\n",
    "        print(\"Loss: {:.4f}\".format(total_loss))\n",
    "\n",
    "    optimizer.step()\n",
    "    losses.append(total_loss)\n"
   ]
  },
  {
   "cell_type": "code",
   "execution_count": null,
   "metadata": {},
   "outputs": [
    {
     "name": "stdout",
     "output_type": "stream",
     "text": [
      "386\n"
     ]
    }
   ],
   "source": [
    "print(len(y))"
   ]
  },
  {
   "cell_type": "code",
   "execution_count": null,
   "metadata": {},
   "outputs": [
    {
     "data": {
      "text/plain": [
       "(1930, 9)"
      ]
     },
     "execution_count": 109,
     "metadata": {},
     "output_type": "execute_result"
    }
   ],
   "source": [
    "X_train.shape"
   ]
  },
  {
   "cell_type": "code",
   "execution_count": null,
   "metadata": {},
   "outputs": [
    {
     "data": {
      "text/plain": [
       "386.0"
      ]
     },
     "execution_count": 110,
     "metadata": {},
     "output_type": "execute_result"
    }
   ],
   "source": [
    "X_train.shape[0] / 5"
   ]
  },
  {
   "cell_type": "code",
   "execution_count": 100,
   "metadata": {},
   "outputs": [
    {
     "data": {
      "text/plain": [
       "[<matplotlib.lines.Line2D at 0x7ff27631faf0>]"
      ]
     },
     "execution_count": 100,
     "metadata": {},
     "output_type": "execute_result"
    },
    {
     "data": {
      "image/png": "[encoded data removed]",
      "text/plain": [
       "<Figure size 640x480 with 1 Axes>"
      ]
     },
     "metadata": {},
     "output_type": "display_data"
    }
   ],
   "source": [
    "plt.plot(losses)"
   ]
  },
  {
   "cell_type": "code",
   "execution_count": null,
   "metadata": {},
   "outputs": [],
   "source": []
  }
 ],
 "metadata": {
  "kernelspec": {
   "display_name": "Python 3.9.12 ('csi4133')",
   "language": "python",
   "name": "python3"
  },
  "language_info": {
   "codemirror_mode": {
    "name": "ipython",
    "version": 3
   },
   "file_extension": ".py",
   "mimetype": "text/x-python",
   "name": "python",
   "nbconvert_exporter": "python",
   "pygments_lexer": "ipython3",
   "version": "3.9.12"
  },
  "orig_nbformat": 4,
  "vscode": {
   "interpreter": {
    "hash": "2f41136a46dbc985f0dfd7257394d9dd636ba3a1255dd07d589bf2551292832b"
   }
  }
 },
 "nbformat": 4,
 "nbformat_minor": 2
}
